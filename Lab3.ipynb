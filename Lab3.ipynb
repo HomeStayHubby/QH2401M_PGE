{
 "cells": [
  {
   "cell_type": "markdown",
   "metadata": {},
   "source": [
    "# PGE Lab 3 - Data Structures (List / Tuple / Set / Dictionary)"
   ]
  },
  {
   "cell_type": "code",
   "execution_count": null,
   "metadata": {},
   "outputs": [],
   "source": [
    "# PGE Lab 3, Step 2, list.py [Basic List Operations]\n",
    "\n",
    "new_list = []           # this is an empty list\n",
    "print(new_list)         # prints an empty list\n",
    "print(type(new_list))   # prints the data type of the variable 'new_list', which will be 'list')"
   ]
  },
  {
   "cell_type": "code",
   "execution_count": null,
   "metadata": {},
   "outputs": [],
   "source": [
    "# PGE Lab 3, Step 3, list.py [Basic List Operations - List with Single Data Type]\n",
    "\n",
    "new_list = [10, 20, 30, 40, 50] # this is a list with 5 elements\n",
    "print(new_list)                 # prints the list, which should show 5 elements\n",
    "print(type(new_list))           # prints the data type of the variable 'new_list', which will be 'list'"
   ]
  },
  {
   "cell_type": "code",
   "execution_count": null,
   "metadata": {},
   "outputs": [],
   "source": [
    "# PGE Lab 3, Step 4, list.py [Basic List Operations - List with Mixed Data Types]\n",
    "\n",
    "new_list = [10, 20.22, \"thirty\", 40, 50] # this is a list with 5 elements of different data types (in this case, of int,float,and str)\n",
    "print(new_list)                          # prints the list, which should show the 5 elements\n",
    "print(type(new_list))                    # prints the data type of the variable 'new_list', which will be 'list'"
   ]
  },
  {
   "cell_type": "code",
   "execution_count": null,
   "metadata": {},
   "outputs": [],
   "source": [
    "#PGE Lab 3, Step 5, list.py [Basic List Operations - Nested Lists]\n",
    "\n",
    "new_list = [[10, 20, 30], [10.1, 10.2, 10.3], [\"ten\", \"twenty\", \"thirty\"]] # this is a list with 3 elements, each of which is a list of 3 elements. Each nested lists also contains different data types as elements.\n",
    "print(new_list)                                                            # prints the list, which should show the 3 elements (each being a list in itself)\n",
    "print(type(new_list))                                                      # prints the data type of the variable 'new_list', which will be 'list'"
   ]
  },
  {
   "cell_type": "code",
   "execution_count": null,
   "metadata": {},
   "outputs": [],
   "source": [
    "#PGE Lab 3, Step 7-8, list.py [Basic List Operations - Slicing]\n",
    "\n",
    "a = [1, 2, 3, 4, 5, 6, 7, 8, 9, 10, 11]     # this is a list with 11 elements\n",
    "print(a[0])                                 # prints the first element of the list, \n",
    "                                            # the index starting with 0, which corresponds in \n",
    "                                            # this case to the value '1'"
   ]
  },
  {
   "cell_type": "code",
   "execution_count": null,
   "metadata": {},
   "outputs": [],
   "source": [
    "#PGE Lab 3, Step 9, list.py [Activity Time]\n",
    "\n",
    "a = [1, 2, 3, 4, 5, 6, 7, 8, 9, 10, 11]     # this is a list with 11 elements\n",
    "print(a[7])                                 # prints the 8th element of the list, which is '8'\n",
    "print(a[10])                                # prints the 11th element of the list, which is '11'"
   ]
  },
  {
   "cell_type": "code",
   "execution_count": null,
   "metadata": {},
   "outputs": [],
   "source": [
    "#PGE Lab 3, Step 10, list.py [Activity Time]\n",
    "\n",
    "a = [1, 2, 3, 4, 5, 6, 7, 8, 9, 10, 11]     # this is a list with 11 elements\n",
    "print(a[-1])                                # prints the last element of the list, which is '11'"
   ]
  },
  {
   "cell_type": "code",
   "execution_count": null,
   "metadata": {},
   "outputs": [],
   "source": [
    "#PGE Lab 3, Step 11, list.py [Activity Time]\n",
    "\n",
    "a = [1, 2, 3, 4, 5, 6, 7, 8, 9, 10, 11]     # this is a list with 11 elements\n",
    "print(a[-3])                                # prints the 3rd element from the end of the list, which is '9'"
   ]
  },
  {
   "cell_type": "code",
   "execution_count": null,
   "metadata": {},
   "outputs": [],
   "source": [
    "#PGE Lab 3, Step 12-13, list.py [Activity Time]\n",
    "\n",
    "a = [1, 2, 3, 4, 5, 6, 7, 8, 9, 10, 11]     # this is a list with 11 elements\n",
    "print(a[2:5])                               # prints the elements from index 2 to 4 of the list, which are '3', '4', and '5'\n",
    "                                            # in this notation, the first number is the index to start from (inclusive). Since the first index is 0 instead of 1, index 2 is actually the 3rd element of the list (which happens to also be '3').\n",
    "                                            # and the second number is the index to end by (exclusive), which means that if it says 5, it must end at index 4, in this case, the 5th element of the list (which is '5').\n",
    "                                            # so the output will be the elements at index 2, 3, and 4, which are '3', '4', and '5'."
   ]
  },
  {
   "cell_type": "code",
   "execution_count": null,
   "metadata": {},
   "outputs": [],
   "source": [
    "#PGE Lab 3, Step 14, list.py [Activity Time]\n",
    "\n",
    "a = [1, 2, 3, 4, 5, 6, 7, 8, 9, 10, 11]     # this is a list with 11 elements\n",
    "print(a[5:9])                               # prints the elements from index 5 to 8 of the list, which are '6', '7', '8', and '9'\n",
    "                                            # in this notation, the first number is the index to start from (inclusive). Since the first index is 0 instead of 1, index 5 is actually the 6th element of the list (which happens to also be '6').\n",
    "                                            # and the second number is the index to end by (exclusive), which means that if it says 9, it must end at index 8, in this case, the 9th element of the list (which is '9').\n",
    "                                            # so the output will be the elements at index 5, 6, 7, and 8, which are '6', '7', '8', and '9'."
   ]
  },
  {
   "cell_type": "code",
   "execution_count": null,
   "metadata": {},
   "outputs": [],
   "source": [
    "#PGE Lab 3, Step 15, list.py [List Operations - Printing the whole list]\n",
    "\n",
    "a = [1, 2, 3, 4, 5, 6, 7, 8, 9, 10, 11]     # this is a list with 11 elements\n",
    "print(a[:])                                 # prints the whole list, which is the same as printing the list without any slicing, i.e. just print(a)."
   ]
  },
  {
   "cell_type": "code",
   "execution_count": null,
   "metadata": {},
   "outputs": [],
   "source": [
    "#PGE Lab 3, Step 16, list.py [List Operations - Slicing in increments]\n",
    "\n",
    "a = [1, 2, 3, 4, 5, 6, 7, 8, 9, 10, 11]     # this is a list with 11 elements\n",
    "print(a[0:6:2])                             # prints the elements from index 0 to 5 of the list, with an increment of 2 (skipping the elements in between), which yields the elements '1', '3', and '5' only."
   ]
  },
  {
   "cell_type": "code",
   "execution_count": null,
   "metadata": {},
   "outputs": [],
   "source": [
    "#PGE Lab 3, Step 17, list.py [Activity Time]\n",
    "\n",
    "a = [1, 2, 3, 4, 5, 6, 7, 8, 9, 10, 11]     # this is a list with 11 elements\n",
    "print(a[0:10:3])                             # "
   ]
  },
  {
   "cell_type": "code",
   "execution_count": null,
   "metadata": {},
   "outputs": [],
   "source": [
    "#PGE Lab 3, Step 19, ListFunctions.py [List Operations - Sum of elements]\n",
    "\n",
    "new_list = [5, 2, 9, 7, 6, 3]\n",
    "print(f\"Sum of all numbers is {sum(new_list)}\") # prints the sum of all the elements in the list"
   ]
  },
  {
   "cell_type": "code",
   "execution_count": null,
   "metadata": {},
   "outputs": [],
   "source": [
    "#PGE Lab 3, Step 20, ListFunctions.py [List Operations - Minimum and Maximum]\n",
    "\n",
    "new_list = [5, 2, 9, 7, 6, 3]\n",
    "print(f\"The smallest number is {min(new_list)}.\") # prints the smallest number in the list\n",
    "print(f\"The largest number is {max(new_list)}.\")  # prints the largest number in the list"
   ]
  },
  {
   "cell_type": "code",
   "execution_count": null,
   "metadata": {},
   "outputs": [],
   "source": [
    "#PGE Lab 3, Step 21, ListFunctions.py [List Operations - Determining Index of Element]\n",
    "\n",
    "a = [\"Accomplish\", \"Active\", \"Attitude\", \"Attain\", \"Appreciate\"]    # Creats a list with 5 elements\n",
    "print(a.index(\"Attitude\"))                                          # Print out the index of the first element that matches the given value, \n",
    "                                                                    # in this case, \"Attitude\" is found as index 2 - the 3rd element in the list."
   ]
  },
  {
   "cell_type": "code",
   "execution_count": null,
   "metadata": {},
   "outputs": [],
   "source": [
    "#PGE Lab 3, Step 22, ListFunctions.py [List Operations - Appending an Element]\n",
    "\n",
    "a = [\"Accomplish\", \"Active\", \"Attitude\", \"Attain\", \"Appreciate\"]    # Creats a list with 5 elements\n",
    "a.append(\"Adventure\")                                               # Adds a new element \"Adventure\" to the end of the list\n",
    "print(a)                                                            # Prints out the list 'a' - which should now have 6 elements"
   ]
  },
  {
   "cell_type": "code",
   "execution_count": null,
   "metadata": {},
   "outputs": [],
   "source": [
    "#PGE Lab 3, Step 23, ListFunctions.py [List Operations - Extending a list with another list]\n",
    "\n",
    "a = [\"Accomplish\", \"Active\", \"Attitude\", \"Attain\", \"Appreciate\", \"Adventure\"]    # Creats a list with 6 elements\n",
    "b = [\"Brave\", \"Brilliant\"]\n",
    "a.extend(b)                                                                      # Adds all the elements in list 'b' to the end of list 'a', thereby extending it.\n",
    "print(a)                                                                         # Prints out the list 'a' - which should now have 8 elements"
   ]
  },
  {
   "cell_type": "code",
   "execution_count": null,
   "metadata": {},
   "outputs": [],
   "source": [
    "#PGE Lab 3, Step 24, ListFunctions.py [List Operations - Inserting an element into a specified position in a list]\n",
    "\n",
    "a = [\"Accomplish\", \"Active\", \"Attitude\", \"Attain\", \"Appreciate\"]        # Creats a list with 5 elements\n",
    "a.insert(2, \"Adventure\")                                                # Insert the element 'Adventure' into the list 'a' as index 2 - the 3rd element of the list\n",
    "print(a)                                                                # Prints out the list 'a', which should now have 6 items - the new item is added in the 3rd position and not the last"
   ]
  },
  {
   "cell_type": "code",
   "execution_count": null,
   "metadata": {},
   "outputs": [],
   "source": [
    "#PGE Lab 3, Step 25, ListFunctions.py [List Operations - Remove - Removing an element from a list by its content]\n",
    "\n",
    "a = [\"Accomplish\", \"Active\", \"Attitude\", \"Attain\", \"Appreciate\"]    # Creats a list with 5 elements\n",
    "a.remove(\"Appreciate\")                                              # Removes the first appearance of the element 'Appreciate' from the list 'a'\n",
    "print(a)                                                            # Prints out the list 'a', which should now only have 4 items"
   ]
  },
  {
   "cell_type": "code",
   "execution_count": null,
   "metadata": {},
   "outputs": [],
   "source": [
    "#PGE Lab 3, Step 26, ListFunctions.py [List Operations - Pop - Removing an element from a list by it's index]\n",
    "\n",
    "a = [\"Accomplish\", \"Active\", \"Attitude\", \"Attain\", \"Appreciate\"]    # Creats a list with 5 elements\n",
    "a.pop(1)                                                            # Removes the element at index 1 - which is the 2nd element from the front - in this case, the element \"Active\"\n",
    "print(a)                                                            # Prints out the list 'a', which should now only have 4 items\n",
    "a.pop()                                                             # Removes the last element in the list, in this case, it's the element 'Attain'\n",
    "print(a)                                                            # Prints out the list 'a', which should now only have 3 items\n"
   ]
  },
  {
   "cell_type": "code",
   "execution_count": null,
   "metadata": {},
   "outputs": [],
   "source": [
    "#PGE Lab 3, Step 27-28, ListFunctions.py [List Operations - Count - Counting occurence of an element in a list]\n",
    "\n",
    "a = [\"Accomplish\", \"Attitude\", \"Active\", \"Attitude\", \"Attain\", \"Appreciate\"]    # Creats a list with 6 elements, in which 2 elements are repeated\n",
    "print(a.count(\"Attitude\"))                                                      # Print out the number of times the given element is found within the list. In this case, the element \"Attitude\" appears 2 times."
   ]
  },
  {
   "cell_type": "code",
   "execution_count": null,
   "metadata": {},
   "outputs": [],
   "source": [
    "#PGE Lab 3, Step 29, ListFunctions.py [List Operations - Sort - Sort all elements in a list in alphabetical (from a to z) order]\n",
    "\n",
    "a = [\"Accomplish\", \"Attitude\", \"Active\", \"Attitude\", \"Attain\", \"Appreciate\"]    # Creats a list with 6 elements, in which 2 elements are repeated\n",
    "a.sort()                                                                        # Sorts the list alphabetically - do not use this for printing - it will return None as a value and not the elements of a list\n",
    "print(a)                                                                        # Print out the sorted list 'a'"
   ]
  },
  {
   "cell_type": "code",
   "execution_count": null,
   "metadata": {},
   "outputs": [],
   "source": [
    "#PGE Lab 3, Step 29, ListFunctions.py [List Operations - Sort - Sort all elements in a list in numerical (smallest to largest number) order]\n",
    "\n",
    "b = [2, 5, 6, 1, 3]     # Creats a list with 5 elements\n",
    "b.sort()                # Sorts the list from smallest number to the largest one - do not use this for printing - it will return None as a value and not the elements of a list\n",
    "print(b)                # Print out the sorted list 'b'"
   ]
  },
  {
   "cell_type": "code",
   "execution_count": null,
   "metadata": {},
   "outputs": [],
   "source": [
    "#PGE Lab 3, Step 29, ListFunctions.py [List Operations - Sort - Attempt to sort all elements in a mixed data type list - not doable if non-comparable types are mixed, will result in error]\n",
    "\n",
    "c = [\"one\", 3, \"five\", 8]       # Creats a list with 4 elements of different data types that cannot be compared - strings and integers\n",
    "c.sort()                        # Attempt to sort the list - since the elements are of different data types that cannot be compared, this cannot be done and will result in an error.\n",
    "print(b)                        # This is supposed to print out the sorted list 'c', but will not execute due to the error above"
   ]
  },
  {
   "cell_type": "code",
   "execution_count": null,
   "metadata": {},
   "outputs": [],
   "source": [
    "#PGE Lab 3, Step 29, ListFunctions.py [List Operations - Sort - Attempt to sort all elements in a mixed data type list - doable if comparable-types are mixed, will run successfully]\n",
    "\n",
    "d = [8.9, 3, 1.2975, 8]         # Creats a list with 4 elements of different data types that can be compared - floats and integers\n",
    "d.sort()                        # Attempt to sort the list - since the elements are of different data types that can be compared, in this case, both are numerical types, this can execute successfully and the list is sorted from smallest to largest\n",
    "print(d)                        # Print out the sorted list 'd'"
   ]
  },
  {
   "cell_type": "code",
   "execution_count": null,
   "metadata": {},
   "outputs": [],
   "source": [
    "#PGE Lab 3, Step 30, ListFunctions.py [List Operations - Reverse - Display the list in reversed order]\n",
    "\n",
    "a = [\"Accomplish\", \"Attitude\", \"Active\", \"Attitude\", \"Attain\", \"Appreciate\"]    # Creats a list with 6 elements, in which 2 elements are repeated\n",
    "a.reverse()                                                                     # Reverse the order of all elements in the list\n",
    "print(a)                                                                        # Print out the reversed list 'a'\n",
    "\n",
    "# Note that the reserve() function of the list reverses ALL the elements of the list, but DOES NOT sort them.\n",
    "# It is thus different from a reverse sort: sort(reverse=True)\n",
    "# This is how both will look like:\n",
    "\n",
    "e = [\"First Element\", \"Second Element\", \"Third Element\", \"Fourth Element, Fifth Element\"]\n",
    "print(f\"This is the original list: {e}\")\n",
    "e.reverse()\n",
    "print(f\"This is the list after running e.reverse(): {e} (Same list, but in reversed order)\")\n",
    "e.sort()\n",
    "print(f\"This is the list after running e.sort(): {e} (Same list, but sorted in Alphabetical Order)\")\n",
    "e.sort(reverse=True)\n",
    "print(f\"This is the list after running e.sort(reverse=True): {e} (Same list, but sorted in reverse alphabetical order)\")"
   ]
  },
  {
   "cell_type": "code",
   "execution_count": null,
   "metadata": {},
   "outputs": [],
   "source": [
    "#PGE Lab 3, Step 31, ListFunctions.py [List Operations - Copy - Duplicate a list]\n",
    "\n",
    "a = [\"Appreciate\", \"Attain\", \"Attitude\", \"Active\", \"Attitude\",\"Accomplish\"]     # Creates a list with 6 elements, in which 2 elements are repeated\n",
    "b = a.copy()                                                                    # Creates a new list 'b', with all the elements in list 'a', in the exact same order\n",
    "b.remove(\"Attitude\")                                                            # Removes the first appearance of the element 'Attitude' from the list 'b'\n",
    "print(a)                                                                        # Prints out the list 'a', which still has all 6 elements including the 2 identical elements\n",
    "print(b)                                                                        # Prints out the list 'b', which has only 5 elements now since the first element that says 'Attitude' has now been removed"
   ]
  }
 ],
 "metadata": {
  "kernelspec": {
   "display_name": "Python 3",
   "language": "python",
   "name": "python3"
  },
  "language_info": {
   "codemirror_mode": {
    "name": "ipython",
    "version": 3
   },
   "file_extension": ".py",
   "mimetype": "text/x-python",
   "name": "python",
   "nbconvert_exporter": "python",
   "pygments_lexer": "ipython3",
   "version": "3.10.12"
  }
 },
 "nbformat": 4,
 "nbformat_minor": 2
}
