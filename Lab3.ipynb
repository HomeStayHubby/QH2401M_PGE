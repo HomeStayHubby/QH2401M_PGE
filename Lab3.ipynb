{
 "cells": [
  {
   "cell_type": "markdown",
   "metadata": {},
   "source": [
    "# PGE Lab 3 - Data Structures (List / Tuple / Set / Dictionary)"
   ]
  },
  {
   "cell_type": "code",
   "execution_count": null,
   "metadata": {},
   "outputs": [],
   "source": [
    "# PGE Lab 3, Step 2, list.py [Basic List Operations]\n",
    "\n",
    "new_list = []           # this is an empty list\n",
    "print(new_list)         # prints an empty list\n",
    "print(type(new_list))   # prints the data type of the variable 'new_list', which will be 'list')"
   ]
  },
  {
   "cell_type": "code",
   "execution_count": null,
   "metadata": {},
   "outputs": [],
   "source": [
    "# PGE Lab 3, Step 3, list.py [Basic List Operations - List with Single Data Type]\n",
    "\n",
    "new_list = [10, 20, 30, 40, 50] # this is a list with 5 elements\n",
    "print(new_list)                 # prints the list, which should show 5 elements\n",
    "print(type(new_list))           # prints the data type of the variable 'new_list', which will be 'list'"
   ]
  },
  {
   "cell_type": "code",
   "execution_count": null,
   "metadata": {},
   "outputs": [],
   "source": [
    "# PGE Lab 3, Step 4, list.py [Basic List Operations - List with Mixed Data Types]\n",
    "\n",
    "new_list = [10, 20.22, \"thirty\", 40, 50] # this is a list with 5 elements of different data types (in this case, of int,float,and str)\n",
    "print(new_list)                          # prints the list, which should show the 5 elements\n",
    "print(type(new_list))                    # prints the data type of the variable 'new_list', which will be 'list'"
   ]
  },
  {
   "cell_type": "code",
   "execution_count": null,
   "metadata": {},
   "outputs": [],
   "source": [
    "#PGE Lab 3, Step 5, list.py [Basic List Operations - Nested Lists]\n",
    "\n",
    "new_list = [[10, 20, 30], [10.1, 10.2, 10.3], [\"ten\", \"twenty\", \"thirty\"]] # this is a list with 3 elements, each of which is a list of 3 elements. Each nested lists also contains different data types as elements.\n",
    "print(new_list)                                                            # prints the list, which should show the 3 elements (each being a list in itself)\n",
    "print(type(new_list))                                                      # prints the data type of the variable 'new_list', which will be 'list'"
   ]
  },
  {
   "cell_type": "code",
   "execution_count": null,
   "metadata": {},
   "outputs": [],
   "source": [
    "#PGE Lab 3, Step 7-8, list.py [Basic List Operations - Slicing]\n",
    "\n",
    "a = [1, 2, 3, 4, 5, 6, 7, 8, 9, 10, 11]     # this is a list with 11 elements\n",
    "print(a[0])                                 # prints the first element of the list, \n",
    "                                            # the index starting with 0, which corresponds in \n",
    "                                            # this case to the value '1'"
   ]
  },
  {
   "cell_type": "code",
   "execution_count": null,
   "metadata": {},
   "outputs": [],
   "source": [
    "#PGE Lab 3, Step 9, list.py [Activity Time]\n",
    "\n",
    "a = [1, 2, 3, 4, 5, 6, 7, 8, 9, 10, 11]     # this is a list with 11 elements\n",
    "print(a[7])                                 # prints the 8th element of the list, which is '8'\n",
    "print(a[10])                                # prints the 11th element of the list, which is '11'"
   ]
  },
  {
   "cell_type": "code",
   "execution_count": null,
   "metadata": {},
   "outputs": [],
   "source": [
    "#PGE Lab 3, Step 10, list.py [Activity Time]\n",
    "\n",
    "a = [1, 2, 3, 4, 5, 6, 7, 8, 9, 10, 11]     # this is a list with 11 elements\n",
    "print(a[-1])                                # prints the last element of the list, which is '11'"
   ]
  },
  {
   "cell_type": "code",
   "execution_count": null,
   "metadata": {},
   "outputs": [],
   "source": [
    "#PGE Lab 3, Step 11, list.py [Activity Time]\n",
    "\n",
    "a = [1, 2, 3, 4, 5, 6, 7, 8, 9, 10, 11]     # this is a list with 11 elements\n",
    "print(a[-3])                                # prints the 3rd element from the end of the list, which is '9'"
   ]
  },
  {
   "cell_type": "code",
   "execution_count": null,
   "metadata": {},
   "outputs": [],
   "source": [
    "#PGE Lab 3, Step 12-13, list.py [Activity Time]\n",
    "\n",
    "a = [1, 2, 3, 4, 5, 6, 7, 8, 9, 10, 11]     # this is a list with 11 elements\n",
    "print(a[2:5])                               # prints the elements from index 2 to 4 of the list, which are '3', '4', and '5'\n",
    "                                            # in this notation, the first number is the index to start from (inclusive). Since the first index is 0 instead of 1, index 2 is actually the 3rd element of the list (which happens to also be '3').\n",
    "                                            # and the second number is the index to end by (exclusive), which means that if it says 5, it must end at index 4, in this case, the 5th element of the list (which is '5').\n",
    "                                            # so the output will be the elements at index 2, 3, and 4, which are '3', '4', and '5'."
   ]
  },
  {
   "cell_type": "code",
   "execution_count": null,
   "metadata": {},
   "outputs": [],
   "source": [
    "#PGE Lab 3, Step 14, list.py [Activity Time]\n",
    "\n",
    "a = [1, 2, 3, 4, 5, 6, 7, 8, 9, 10, 11]     # this is a list with 11 elements\n",
    "print(a[5:9])                               # prints the elements from index 5 to 8 of the list, which are '6', '7', '8', and '9'\n",
    "                                            # in this notation, the first number is the index to start from (inclusive). Since the first index is 0 instead of 1, index 5 is actually the 6th element of the list (which happens to also be '6').\n",
    "                                            # and the second number is the index to end by (exclusive), which means that if it says 9, it must end at index 8, in this case, the 9th element of the list (which is '9').\n",
    "                                            # so the output will be the elements at index 5, 6, 7, and 8, which are '6', '7', '8', and '9'."
   ]
  },
  {
   "cell_type": "code",
   "execution_count": null,
   "metadata": {},
   "outputs": [],
   "source": [
    "#PGE Lab 3, Step 15, list.py [List Operations - Printing the whole list]\n",
    "\n",
    "a = [1, 2, 3, 4, 5, 6, 7, 8, 9, 10, 11]     # this is a list with 11 elements\n",
    "print(a[:])                                 # prints the whole list, which is the same as printing the list without any slicing, i.e. just print(a)."
   ]
  },
  {
   "cell_type": "code",
   "execution_count": null,
   "metadata": {},
   "outputs": [],
   "source": [
    "#PGE Lab 3, Step 16, list.py [List Operations - Slicing in increments]\n",
    "\n",
    "a = [1, 2, 3, 4, 5, 6, 7, 8, 9, 10, 11]     # this is a list with 11 elements\n",
    "print(a[0:6:2])                             # prints the elements from index 0 to 5 of the list, with an increment of 2 (skipping the elements in between), which yields the elements '1', '3', and '5' only."
   ]
  },
  {
   "cell_type": "code",
   "execution_count": null,
   "metadata": {},
   "outputs": [],
   "source": [
    "#PGE Lab 3, Step 17, list.py [Activity Time]\n",
    "\n",
    "a = [1, 2, 3, 4, 5, 6, 7, 8, 9, 10, 11]     # this is a list with 11 elements\n",
    "print(a[0:10:3])                             # "
   ]
  },
  {
   "cell_type": "code",
   "execution_count": null,
   "metadata": {},
   "outputs": [],
   "source": [
    "#PGE Lab 3, Step 19, ListFunctions.py [List Operations - Sum of elements]\n",
    "\n",
    "new_list = [5, 2, 9, 7, 6, 3]\n",
    "print(f\"Sum of all numbers is {sum(new_list)}\") # prints the sum of all the elements in the list"
   ]
  },
  {
   "cell_type": "code",
   "execution_count": null,
   "metadata": {},
   "outputs": [],
   "source": [
    "#PGE Lab 3, Step 19, ListFunctions.py [List Operations - Minimum and Maximum]\n",
    "\n",
    "new_list = [5, 2, 9, 7, 6, 3]\n",
    "print(f\"The smallest number is {min(new_list)}.\") # prints the smallest number in the list\n",
    "print(f\"The largest number is {max(new_list)}.\")  # prints the largest number in the list"
   ]
  }
 ],
 "metadata": {
  "kernelspec": {
   "display_name": "Python 3",
   "language": "python",
   "name": "python3"
  },
  "language_info": {
   "codemirror_mode": {
    "name": "ipython",
    "version": 3
   },
   "file_extension": ".py",
   "mimetype": "text/x-python",
   "name": "python",
   "nbconvert_exporter": "python",
   "pygments_lexer": "ipython3",
   "version": "3.10.12"
  }
 },
 "nbformat": 4,
 "nbformat_minor": 2
}
