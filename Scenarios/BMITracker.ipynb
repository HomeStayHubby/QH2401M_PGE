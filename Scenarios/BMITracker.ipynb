{
 "cells": [
  {
   "cell_type": "code",
   "execution_count": null,
   "metadata": {},
   "outputs": [
    {
     "name": "stdout",
     "output_type": "stream",
     "text": [
      "Welcome CHRISTIN383G, to the PGE BMI Tracker!\n",
      "The BMI of JOHN DOE is 22.49\n",
      "You have entered 1 entries for tracking, they are\n",
      "Name: JOHN DOE | Weight: 65.00 | Height: 1.70 | BMI: 22.49\n",
      "--------------------------------------------------\n",
      "Average BMI: 22.49\n",
      "Tallest Person: JOHN DOE at 1.70cm\n",
      "Lightest Person: JOHN DOE at 65.00kg\n",
      "--------------------------------------------------\n",
      "Thank you for using PGE BMI Tracker, CHRISTIN383G!\n"
     ]
    }
   ],
   "source": [
    "# Mock Test Answer\n",
    "\n",
    "#PART 1 - String Manipulation (with some usage of lists)\n",
    "\n",
    "email = input(\"Your email: \")                           # Get the user email from the user, and assigns it to the 'email' variable\n",
    "nric = input(\"Your NRIC: \")                             # Get the user NRIC from the user, and assigns it to the 'nric' variable\n",
    "email_split = email.split('@')                          # Extract the email user name by splitting the email by '@' and assigns it to the 'email_split' variable \n",
    "if len(nric) > 4:                                       # Depending on the clarity of the request for NRIC input, some people may enter their full IC, while others may just enter the last 4 characters. If NRIC is longer than 4 characters,\n",
    "    nric.split()                                        # Split the NRIC string into individual characters\n",
    "    nric = nric[-4]+nric[-3]+nric[-2]+nric[-1]          # Combine the last 4 characters of the NRIC into a single string, starting from the 4th character from last, and re-assigns it to the 'nric' variable\n",
    "    #nric = nric[-4:]                                   # Alternatively, just use the shortcut way to slice the last 4 characters of the NRIC into a single string, starting from the 4th character from last, and re-assigns it to the 'nric' variable\n",
    "username = email_split[0] + nric                        # Combine the email user name and the NRIC into a single string, and assigns it to the 'username' variable\n",
    "print(f\"Welcome {username}, to the PGE BMI Tracker!\")   # Print a welcome message to the user, using the 'username' variable    \n",
    "\n",
    "#PART 2 - BMI Calculation and Tracking (Using Loops, Lists, and Conditional Statements)\n",
    "\n",
    "persons = []                                                            # Initialize an empty list 'persons' to store the names of the people   \n",
    "weights = []                                                            # Initialize an empty list 'weights' to store the weights of the people\n",
    "heights = []                                                            # Initialize an empty list 'heights' to store the heights of the people     \n",
    "bmis = []                                                               # Initialize an empty list 'bmis' to store the BMIs of the people  \n",
    "while True:                                                             # Start an infinite loop to keep asking for BMI inputs until the user decides to stop\n",
    "    person = input(f\"Enter the name of the person: \")                   # Get the name of the person from the user and assigns it to the 'person' variable\n",
    "    weight = float(input(f\"Enter the weight of {person} (in kg): \"))    # Get the weight of the person from the user and assigns it to the 'weight' variable\n",
    "    height = float(input(f\"Enter the height of {person} (in cm): \"))    # Get the height of the person from the user and assigns it to the 'height' variable\n",
    "    height = height * 0.01                                              # Convert the height from cm to m by multiplying by 0.01\n",
    "    bmi = weight / (height * height)                                    # Calculate the BMI of the person using the formula weight / (height * height) and assigns it to the 'bmi' variable\n",
    "    persons.append(person)                                              # Append the name of the person to the 'persons' list\n",
    "    weights.append(weight)                                              # Append the weight of the person to the 'weights' list  \n",
    "    heights.append(height)                                              # Append the height of the person to the 'heights' list\n",
    "    bmis.append(bmi)                                                    # Append the BMI of the person to the 'bmis' list\n",
    "    print(f\"The BMI of {person} is {bmi:.02f}\")                         # Print the BMI of the person to 2 decimal places\n",
    "    answer = input(f\"Enter another BMI?: \")                             # Ask the user if they want to enter another BMI and assigns it to the 'answer' variable\n",
    "    answer = answer.lower()                                             # Convert the answer to lowercase for easier comparison\n",
    "    while answer!='yes' and answer!='no':                               # Check if the answer is another other than 'yes' or 'no'. If it is neither, keep asking the user to enter 'yes' or 'no', store the answer, then loop back here to check again until we have a 'yes' or 'no' answer.\n",
    "        print(f\"Please only answer YES or NO\")                          # Print a message to the user to only enter 'yes' or 'no'\n",
    "        answer = input(f\"Enter another BMI?: \")                         # Ask the user again if they want to  enter another BMI and assigns it to the 'answer' variable\n",
    "        answer = answer.lower()                                         # Convert the answer to lowercase for easier comparison\n",
    "    if answer=='no':                                                    # If the answer is 'no', it goes down to the next action statement, else, it is treated as a yes (since the inner loop already restricts to only 'yes' and 'no' answers), and it exits the inner loop and goes back to the outer loop.\n",
    "        break                                                           # Break out of the infinite loop if the answer is 'no'\n",
    "\n",
    "#PART 3 - Summarize Findings and Display Results\n",
    "\n",
    "print(f\"You have entered {len(bmis)} entries for tracking, they are\")   # Once the above outer loop completes, summarize and print the number of BMIs tracked. We will count the 'bmis' list to see how many we have on record. (you can use any of the lists: persons, heights, weights, bmis - they all work)\n",
    "\n",
    "start = 0                                                               # Initialize the 'start' variable to 0. We will use this to represent the 1st element of the lists\n",
    "while start < len(bmis):                                                # Start a loop that will run as long as the 'start' variable is less than the length of the 'bmis' list. This means we will go through every element in the lists since the length of the lists is the number of elements, which will be always 1 count higher than the index number of the elements since elements start at index 0.\n",
    "    print(f\"Name: {persons[start]} | Weight: {weights[start]:.02f} | Height: {heights[start]:.02f} | BMI: {bmis[start]:.02f}\") # Print the index x of each list (person, weight, height, BMI) to list out each BMI record, where x starts from 0 and increments by 1 on each loop\n",
    "    start += 1                                                          # Increment the 'start' variable by 1, so that on the next loop, we will move to the next element in the lists                 \n",
    "\n",
    "print(f\"-\"*50)                                                          # Print a line of dashes to separate the summary from the results. This is just for visual separation. \n",
    "\n",
    "print(f\"Average BMI: {(sum(bmis)/len(bmis)):.02f}\")                     # Calculate the average BMI by summing all the BMIs in the 'bmis' list and dividing by the number of BMIs in the list, then print it to 2 decimal places\n",
    "\n",
    "tallest_height = max(heights)                                           # Find the tallest height by getting the maximum height from the 'heights' list        \n",
    "tallest_index = heights.index(tallest_height)                           # Find the index of the tallest person by getting the index of the tallest height in the 'heights' list\n",
    "tallest_person = persons[tallest_index]                                 # Get the name of the tallest person from the 'persons' list using the index of the tallest height. This works because all the elements in each list was populated sequentially, so each of them will have the same index.\n",
    "\n",
    "lightest_weight = min(weights)                                          # Find the lightest weight by getting the minimum weight from the 'weights' list\n",
    "lightest_index = weights.index(lightest_weight)                         # Find the index of the lightest person by getting the index of the lightest weight in the 'weights' list\n",
    "lightest_person = persons[lightest_index]                               # Get the name of the lightest person from the 'persons' list using the index of the lightest weight. This works because all the elements in each list was populated sequentially, so each of them will have the same index.\n",
    "\n",
    "print(f\"Tallest Person: {tallest_person} at {tallest_height:.02f}cm\")       # Print the name of the tallest person and their height to 2 decimal places\n",
    "print(f\"Lightest Person: {lightest_person} at {lightest_weight:.02f}kg\")    # Print the name of the lightest person and their weight to 2 decimal places\n",
    "print(f\"-\"*50)                                                              # Print a line of dashes to separate the summary from the results. This is just for visual separation.\n",
    "print(f\"Thank you for using PGE BMI Tracker, {username}!\")                  # Print a thank you message to the user using the 'username' variable\n",
    "\n",
    "    "
   ]
  }
 ],
 "metadata": {
  "kernelspec": {
   "display_name": "Python 3",
   "language": "python",
   "name": "python3"
  },
  "language_info": {
   "codemirror_mode": {
    "name": "ipython",
    "version": 3
   },
   "file_extension": ".py",
   "mimetype": "text/x-python",
   "name": "python",
   "nbconvert_exporter": "python",
   "pygments_lexer": "ipython3",
   "version": "3.13.2"
  }
 },
 "nbformat": 4,
 "nbformat_minor": 2
}
