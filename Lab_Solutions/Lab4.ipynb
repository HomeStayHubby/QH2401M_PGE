{
 "cells": [
  {
   "cell_type": "markdown",
   "id": "1f43f4f6-d454-4dae-b2bc-ec8da31b8560",
   "metadata": {},
   "source": [
    "# PGE lab 4 - syntax for IF - ELIF - ELSE statements\n",
    "\n",
    "if condition:\n",
    "    actions to conduct if true\n",
    "elif:\n",
    "    actions to conduct if elif true\n",
    "else:\n",
    "    actions to conduct in all other cases (optional)\n",
    "'''\n"
   ]
  },
  {
   "cell_type": "code",
   "execution_count": null,
   "id": "48b22f1c-9daf-466a-9f45-5f173f975f19",
   "metadata": {
    "ExecuteTime": {
     "end_time": "2025-01-27T02:00:41.838289Z",
     "start_time": "2025-01-27T02:00:41.820468Z"
    }
   },
   "outputs": [],
   "source": [
    "#Lab 4 - Step 6, 7 - RelationalOperators.py [Smaller Than or Equal) ANSWER\n",
    "\n",
    "print(1 < 1)    #False because 1 is not less than 1\n",
    "print(1 < 2)    #True because 1 is less than 2\n",
    "print(1 <= 0)   #False because 1 is neither less than nor equal to 0\n",
    "print(1 <= 1)   #True because 1 is equal to 1\n",
    "print(1 <= 2)   #True because 1 is less than 2"
   ]
  },
  {
   "cell_type": "code",
   "execution_count": null,
   "id": "c953fb38-f120-475d-ab0f-ddcf5f2e0f8c",
   "metadata": {
    "ExecuteTime": {
     "end_time": "2025-01-27T02:02:16.215878Z",
     "start_time": "2025-01-27T02:02:16.206972Z"
    }
   },
   "outputs": [],
   "source": [
    "#Lab 4 - Step 10 - RelationalOperators.py [Equal or not Equal] ANSWER\n",
    "\n",
    "print(1 == 1)   #True because 1 is equal to 1\n",
    "print(1 == 2)   #False because 1 is not equal to 2\n",
    "print(3 != 3)   #False because 3 is equal to 3\n",
    "print(3 != 2)   #True because 3 is not equal to 2"
   ]
  },
  {
   "cell_type": "code",
   "execution_count": null,
   "id": "20481a8a-3b96-4fb1-8fa4-c07124aa859f",
   "metadata": {
    "ExecuteTime": {
     "end_time": "2025-01-27T02:06:53.265491Z",
     "start_time": "2025-01-27T02:06:53.258026Z"
    }
   },
   "outputs": [],
   "source": [
    "#Lab 4 - Step 11 - RelationalOperators.py [Compare with variables] ANSWER\n",
    "\n",
    "a = 1\n",
    "b = 2\n",
    "print(a > b)   #False because a is not greater than b\n",
    "print(a >= b)  #False because a is neither greater than nor equal to b\n",
    "print(a >= a)  #True because a is equal to a\n",
    "\n",
    "c = 'yes'\n",
    "d = 'no'\n",
    "print(c == d)   #False because c is not equal to d\n",
    "print(c != d)   #True because c is not equal to d"
   ]
  },
  {
   "cell_type": "code",
   "execution_count": null,
   "id": "d23a110d-7045-47ba-a51e-141350e43938",
   "metadata": {
    "ExecuteTime": {
     "end_time": "2025-01-27T02:15:17.226590Z",
     "start_time": "2025-01-27T02:15:17.204804Z"
    }
   },
   "outputs": [],
   "source": [
    "#Lab 4 - Step 12 - RelationalOperators.py [Compare List, Tuple, Dictionary and Set]\n",
    "#ANSWERS\n",
    "\n",
    "#Lists\n",
    "a = ['one', 'two']\n",
    "b = ['one', 'two', 'three']\n",
    "print('Lists:')\n",
    "print(a == b)   #False because a is not equal to b\n",
    "print(a != b)   #True because a is not equal to b\n",
    "print('\\n')\n",
    "\n",
    "#Tuples\n",
    "a = ('one', 'two')\n",
    "b = ('one', 'two', 'three')\n",
    "print('Tuples:')\n",
    "print(a == b)   #False because a is not equal to b\n",
    "print(a != b)   #True because a is not equal to b\n",
    "print('\\n')\n",
    "\n",
    "#Dictionaries\n",
    "a = {'one':'one', 'two':'two'}\n",
    "b = {'one':'one', 'two':'two', 'three':'three'}\n",
    "print('Dictionaries:')\n",
    "print(a == b)   #False because a is not equal to b\n",
    "print(a != b)   #True because a is not equal to b\n",
    "print('\\n')\n",
    "\n",
    "#Sets\n",
    "a = {'one', 'two'}\n",
    "b = {'one', 'two', 'three'}\n",
    "print('Sets:')\n",
    "print(a == b)   #False because a is not equal to b\n",
    "print(a != b)   #True because a is not equal to b\n",
    "print('\\n')"
   ]
  },
  {
   "cell_type": "code",
   "execution_count": null,
   "id": "1915d71e-aaf9-495b-b129-226339633eca",
   "metadata": {
    "ExecuteTime": {
     "end_time": "2025-01-27T02:20:15.617344Z",
     "start_time": "2025-01-27T02:20:15.606256Z"
    }
   },
   "outputs": [],
   "source": [
    "#Lab 4 - Step 14 - RelationalOperators.py [Logical Operators - And, Or, Not] ANSWER\n",
    "\n",
    "print((9 > 7) and (2 < 4))      #True because both expressions are true\n",
    "print((9 > 9) and (2 < 4))      #False because only the 1st expression is true\n",
    "print((8 == 8) and (6 != 6))    #False because only the 1st expression is true\n",
    "print((8 == 9) and (6 != 6))    #False because both expressions are false\n",
    "print(not(3 <= 1))              #True because the inside expression is false, but the not negates it to true"
   ]
  },
  {
   "cell_type": "code",
   "execution_count": null,
   "id": "919a21c5-de48-4b17-b39c-819484eb764f",
   "metadata": {
    "ExecuteTime": {
     "end_time": "2025-01-27T02:23:31.998453Z",
     "start_time": "2025-01-27T02:23:31.984846Z"
    }
   },
   "outputs": [],
   "source": [
    "#Lab 4 - Step 15 - RelationalOperators.py [Logical Operators - And, Or, Not] ANSWER\n",
    "\n",
    "a = 1\n",
    "b = 5\n",
    "print(not((b <= a) and (a <= b))) \n",
    "\n",
    "# True, because the *1st* expression is False, and the *2nd* expression is true\n",
    "# hence the *inner combined* expression is False. \n",
    "# However the NOT in the *outer final expression* negates this to True."
   ]
  },
  {
   "cell_type": "code",
   "execution_count": null,
   "id": "355cabd6-6779-4a8a-a0a9-e4a8ce99c8f9",
   "metadata": {
    "ExecuteTime": {
     "end_time": "2025-01-27T02:26:51.366813Z",
     "start_time": "2025-01-27T02:26:51.349584Z"
    }
   },
   "outputs": [],
   "source": [
    "#Lab 4 - Step 17 - RelationalOperators.py [Membership Operators - In, Not In] ANSWER\n",
    "\n",
    "a = ['Happy', 'Motivated', 'Positive']\n",
    "print('Happy' in a)         #True, since it is found in a\n",
    "print('Negative' in a)      #False, since it is not found in a\n",
    "print('Happy' not in a)     #False, since it IS found in a\n",
    "print('Negative' not in a)  #True, since it is not found in a"
   ]
  },
  {
   "cell_type": "code",
   "execution_count": null,
   "id": "1e08f207-5600-4a7d-aea7-181141cffa0a",
   "metadata": {
    "ExecuteTime": {
     "end_time": "2025-01-27T02:29:17.974294Z",
     "start_time": "2025-01-27T02:29:17.965589Z"
    }
   },
   "outputs": [],
   "source": [
    "#Lab 4 - Step 19 - RelationalOperators.py [Activity Time] ANSWER\n",
    "\n",
    "a = 1\n",
    "b = 2\n",
    "\n",
    "print((a==1) and not (b>3))     # True, because the 1st expression is True, the second expression is False, but negated to True. So True AND True results in a True."
   ]
  },
  {
   "cell_type": "code",
   "execution_count": null,
   "id": "55fa2426-62db-4feb-ad73-339ea6ffd424",
   "metadata": {
    "ExecuteTime": {
     "end_time": "2025-01-27T02:31:04.509869Z",
     "start_time": "2025-01-27T02:31:04.495123Z"
    }
   },
   "outputs": [],
   "source": [
    "#Lab 4 - Step 20 - ConditionalStatement.py [If] ANSWER\n",
    "\n",
    "x = 0\n",
    "y = 5\n",
    "if (x < y):\n",
    "    print(\"The value of x is less than y\")  #resolves to True, will print"
   ]
  },
  {
   "cell_type": "code",
   "execution_count": 10,
   "id": "3bee1395-07d8-47ee-be27-c38d6d517c63",
   "metadata": {
    "ExecuteTime": {
     "end_time": "2025-01-27T02:32:14.496999Z",
     "start_time": "2025-01-27T02:32:14.491486Z"
    }
   },
   "outputs": [],
   "source": [
    "#Lab 4 - Step 22 - ConditionalStatement.py [If] ANSWER\n",
    "\n",
    "x = 0\n",
    "y = 5\n",
    "if y < x:\n",
    "    print(\"The value of y is less than x\")  #Resolves to False. \n",
    "    \n",
    "    #Because the IF condition was not fulfilled, NOTHING should be printed! \n",
    "    #If something did, THAT would have been errorneous."
   ]
  },
  {
   "cell_type": "code",
   "execution_count": null,
   "id": "3472b3e5-90fc-4434-8751-8276c157436c",
   "metadata": {
    "ExecuteTime": {
     "end_time": "2025-01-27T02:37:15.659092Z",
     "start_time": "2025-01-27T02:37:15.641779Z"
    }
   },
   "outputs": [],
   "source": [
    "#Lab 4 - Step 23 - ConditionalStatement.py [If - Multiple conditions] ANSWER\n",
    "\n",
    "x = 0\n",
    "y = 5\n",
    "if y > 3 and x < 3:\n",
    "    print(\"Yes, both conditions are True!\")         \n",
    "    #Resolves to True since both conditions are True. Will print.\n",
    "\n",
    "if x > y or y > 3:\n",
    "    print(\"Yes, one of the conditions is True!\")    \n",
    "    #Resolves to True since the 1st expression is False but the 2nd expression is True. Will print."
   ]
  },
  {
   "cell_type": "code",
   "execution_count": null,
   "id": "55638272-e2c6-4bb4-a7d1-4ad26b1a8adc",
   "metadata": {
    "ExecuteTime": {
     "end_time": "2025-01-27T02:43:03.011326Z",
     "start_time": "2025-01-27T02:43:02.998019Z"
    }
   },
   "outputs": [],
   "source": [
    "#Lab 4 - Step 24 - ConditionalStatement.py [If - with Membership Operators] ANSWER\n",
    "\n",
    "feelings = ['Happy', 'Excited']\n",
    "if 'Happy' in feelings:\n",
    "    print(\"Yes, Happy is inside the feelings List!\")    \n",
    "    #Resolves to True because it is found, will print\n",
    "\n",
    "if 'Sad' not in feelings:\n",
    "    print(\"Yes, Sad is not inside the feelings List!\")  \n",
    "#Resolves to True because is it NOT found, will print"
   ]
  },
  {
   "cell_type": "code",
   "execution_count": null,
   "id": "5a42150c-5b45-4500-9a12-3c239af51b31",
   "metadata": {
    "ExecuteTime": {
     "end_time": "2025-01-27T02:49:38.026438Z",
     "start_time": "2025-01-27T02:49:38.012506Z"
    }
   },
   "outputs": [],
   "source": [
    "#Lab 4 - Step 27 - ConditionalStatement.py [If - Else] ANSWER\n",
    "\n",
    "x = 120\n",
    "\n",
    "if x > 100:\n",
    "    print(\"x has a value of more than 100\") \n",
    "    #This will print since x is 120, which is more than 100\n",
    "else:\n",
    "    print(\"x has a value of less than 100\") \n",
    "    #This will not print, since the earlier statements had executed"
   ]
  },
  {
   "cell_type": "code",
   "execution_count": null,
   "id": "a6f2b856-c125-4c67-9235-2d4b60482530",
   "metadata": {
    "ExecuteTime": {
     "end_time": "2025-01-27T02:50:37.099154Z",
     "start_time": "2025-01-27T02:50:37.090091Z"
    }
   },
   "outputs": [],
   "source": [
    "#Lab 4 - Step 28 - ConditionalStatement.py [If - Else] ANSWER\n",
    "\n",
    "x = 80\n",
    "\n",
    "if x > 100:\n",
    "    print(\"x has a value of more than 100\") \n",
    "    #This will not print, since x is less than 100\n",
    "else:\n",
    "    print(\"x has a value of less than 100\")\n",
    "    #This will print since none of the earlier statements had executed"
   ]
  },
  {
   "cell_type": "code",
   "execution_count": null,
   "id": "7a3004bd-6593-4ea1-b4cf-1f66fad96182",
   "metadata": {
    "ExecuteTime": {
     "end_time": "2025-01-27T02:54:11.345074Z",
     "start_time": "2025-01-27T02:54:06.851591Z"
    }
   },
   "outputs": [],
   "source": [
    "#Lab 4 - Step 29 - ConditionalStatement.py [Activity Time] ANSWER 1\n",
    "\n",
    "fatigue = input(\"Are you tired? \")\n",
    "# creates a variable 'fatigue' to get the user's input on whether they are or are not tired.\n",
    "\n",
    "if fatigue == 'yes' or fatigue == 'YES' or fatigue == 'Yes' or fatigue == 'YEs'or fatigue == 'yES' or fatigue == 'yEs' or fatigue == 'yeS'  or fatigue == 'Y' or fatigue == 'y':\n",
    "    # get every possible input that may mean yes, and in all possible cases (uppercase or lowercase). This is actually inefficient. We will see a more efficient version in the next section.\n",
    "    print(\"You can take a power nap!\")\n",
    "    # if one of the answers match, show the message intended for tired users.\n",
    "else:\n",
    "    print(\"Great! Let's continue!\")\n",
    "    # if the given answer does not match any of the above, show the message intended for non-tired users.\n"
   ]
  },
  {
   "cell_type": "code",
   "execution_count": null,
   "id": "6ea528a6-3bef-43ca-983a-5c7e1376f1ce",
   "metadata": {
    "ExecuteTime": {
     "end_time": "2025-01-27T02:54:11.345074Z",
     "start_time": "2025-01-27T02:54:06.851591Z"
    }
   },
   "outputs": [],
   "source": [
    "#Lab 4 - Step 29 - ConditionalStatement.py [Activity Time] ANSWER 2\n",
    "\n",
    "fatigue = input(\"Are you tired? \")\n",
    "# same as in previous section, gets the user's input on whether they are or are not tired\n",
    "fatigue = fatigue.lower()\n",
    "# now, regardless of the user's input, it will be converted to lowercase\n",
    "if fatigue == 'yes' or fatigue == 'y':\n",
    "    # since all inputs are now in lowercase, we only need to check for answers in lowercase inputs. This makes it a lot more efficient.\n",
    "    print(\"You can take a power nap!\")\n",
    "    # if the user is tired, show the message intended for tired users.\n",
    "elif fatigue == 'no' or fatigue == 'n':\n",
    "    print(\"Great! Let's continue!\")\n",
    "    # if the user is not tired, show the message intended for non-tired users.\n",
    "else:\n",
    "    print(\"Answer not recognised. Pls try again.\")\n",
    "    # for added flair, we also take care of answers that do not give a clear yes or no. \n",
    "    # This is a good practice to ensure that the program does not break if the user gives an unexpected input. e.g. \"maybe\".\n",
    "    # For even better exception handling, we could also add a loop to keep asking the user for a valid input until they give one."
   ]
  },
  {
   "cell_type": "code",
   "execution_count": null,
   "id": "3ef3f6097ed17614",
   "metadata": {
    "ExecuteTime": {
     "end_time": "2025-01-27T02:57:51.775505Z",
     "start_time": "2025-01-27T02:57:48.144331Z"
    }
   },
   "outputs": [],
   "source": [
    "#Lab 4 - Step 33 - ConditionalStatement.py [If - Elif - Else] QUESTION / ANSWER\n",
    "\n",
    "name = input(\"Please enter your name: \")        # gets the user's name\n",
    "if name == \"Daniel\":                            # checks if the name is Daniel\n",
    "    print(\"Hello Daniel!\")                      # if it is, prints a greeting for Daniel\n",
    "elif name == \"Joe\":                             # if the name is not Daniel, then checks if it is Joe   \n",
    "    print(\"Hello Joe!\")                         # if it is, prints a greeting for Joe\n",
    "elif name == \"Mary\":                            # if the name is neither Daniel nor Joe, then checks if it is Mary\n",
    "    print(\"Hello Mary!\")                        # if it is, prints a greeting for Mary\n",
    "else:\n",
    "    print(f\"I don't know who you are, {name}!\") # if the name is none of the above, prints a generic message\n",
    "                                                # note that the if-elif-else structure ensures that only one of the greetings will be printed,\n",
    "                                                # depending on the user's input. The conditions are evaluated in order, and the first one that is true will be\n",
    "                                                # executed, and the rest will be skipped."
   ]
  },
  {
   "cell_type": "code",
   "execution_count": null,
   "id": "ed729f19-bb1b-4405-a1fb-42b32f927c92",
   "metadata": {
    "ExecuteTime": {
     "end_time": "2025-01-27T03:01:06.249975Z",
     "start_time": "2025-01-27T03:01:02.665356Z"
    }
   },
   "outputs": [],
   "source": [
    "#Lab 4 - Step 35 - ConditionalStatement.py [Activity Time] ANSWER\n",
    "\n",
    "first_number = input(\"Enter the first number: \")                    # gets the first number from the user\n",
    "second_number = input(\"Enter the second number: \")                  # gets the second number from the user\n",
    "\n",
    "if first_number > second_number:\n",
    "    print(\"The first number is bigger than the second number\")      # if the first number is bigger than the second, print this\n",
    "elif second_number > first_number:\n",
    "    print(\"The second number is bigger than the first number\")      # if the second number is bigger than the first, print this\n",
    "else:\n",
    "    print(\"The two numbers are equal\")                              # if the two numbers are equal, print this"
   ]
  },
  {
   "cell_type": "code",
   "execution_count": null,
   "id": "9dfe46b6-d4f5-4854-abdf-a25566e69eba",
   "metadata": {
    "ExecuteTime": {
     "end_time": "2025-01-27T04:48:53.998086Z",
     "start_time": "2025-01-27T04:48:48.741245Z"
    }
   },
   "outputs": [],
   "source": [
    "#Lab 4 - Step 36 - ConditionalStatement.py [Activity Time] ANSWER\n",
    "\n",
    "marks = input(\"Please enter your mark: \")           # gets the user's mark\n",
    "#marks = int(marks)                     \n",
    "marks = float(marks)                                # converts the user's input to a float\n",
    "if marks > 100:\n",
    "    print(\"Invalid Entry\")                          # if the mark is more than 100, print that it is invalid\n",
    "elif marks >= 80:                                   \n",
    "    print(\"Your grade is A.\")                       # if the mark is 80 or more, print that the grade is A\n",
    "elif marks >= 70:\n",
    "    print(\"Your grade is B.\")                       # if the mark is 70 or more, print that the grade is B\n",
    "elif marks >= 60:\n",
    "    print(\"Your grade is C.\")                       # if the mark is 60 or more, print that the grade is C\n",
    "elif marks >= 50:\n",
    "    print(\"Your grade is D.\")                       # if the mark is 50 or more, print that the grade is D\n",
    "else:\n",
    "    print(\"Your grade is F\")                        # if the mark is less than 50, print that the grade is F\n",
    "print(f\"{marks:.02f}\")                              # prints the mark to 2 decimal places"
   ]
  },
  {
   "cell_type": "markdown",
   "id": "8eaa36954539ff1c",
   "metadata": {},
   "source": [
    "## End of Lab 4"
   ]
  }
 ],
 "metadata": {
  "kernelspec": {
   "display_name": "Python 3 (ipykernel)",
   "language": "python",
   "name": "python3"
  },
  "language_info": {
   "codemirror_mode": {
    "name": "ipython",
    "version": 3
   },
   "file_extension": ".py",
   "mimetype": "text/x-python",
   "name": "python",
   "nbconvert_exporter": "python",
   "pygments_lexer": "ipython3",
   "version": "3.12.7"
  }
 },
 "nbformat": 4,
 "nbformat_minor": 5
}
