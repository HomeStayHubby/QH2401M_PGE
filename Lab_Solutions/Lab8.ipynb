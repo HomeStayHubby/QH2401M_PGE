{
 "cells": [
  {
   "cell_type": "markdown",
   "metadata": {},
   "source": [
    "# Lab 8 - NumPy & Matplotlib"
   ]
  },
  {
   "cell_type": "code",
   "execution_count": null,
   "metadata": {},
   "outputs": [],
   "source": [
    "# PGE Lab 8, Step 4, NumPy_Example.py [Basic NumPy - Creating a simply array with contents]\n",
    "\n",
    "import numpy                    # import the NumPy libary\n",
    "\n",
    "my_array = numpy.arange(10)     # create a NumPy array containing 10 elements - 0 to 9.\n",
    "print(my_array)                 # print the contents of the array 'my_array'"
   ]
  },
  {
   "cell_type": "code",
   "execution_count": null,
   "metadata": {},
   "outputs": [],
   "source": [
    "# PGE Lab 8, Step 5, NumPy_Example.py [Using Aliases for Imported Libraries]\n",
    "\n",
    "import numpy as np              # import the NumPy libary, but also gives it an alias 'np'. This means that in later code, you can use 'np' in place of 'numpy'. Aliases can be used for any libraries that you import - not only NumPy.\n",
    "\n",
    "my_array = np.arange(10)        # create a NumPy array containing 10 elements - 0 to 9.\n",
    "print(my_array)                 # print the contents of the array 'my_array'"
   ]
  },
  {
   "cell_type": "code",
   "execution_count": null,
   "metadata": {},
   "outputs": [],
   "source": [
    "# PGE Lab 8, Step 6, NumPy_Example.py [2-Dimensional Arrays in NumPy]\n",
    "\n",
    "import numpy as np              # import the NumPy libary, but also gives it an alias 'np'. This means that in later code, you can use 'np' in place of 'numpy'. Aliases can be used for any libraries that you import - not only NumPy.\n",
    "\n",
    "my_2d_list = [[1, 2, 3], [4, 5, 6]]         # create a standard nested list\n",
    "my_2d_numpy_list = np.array(my_2d_list)     # convert the nested list to a NumPy array (which results in a 2-dimensional NumPy array)\n",
    "print(my_2d_list)                           # print the contents of the nested list\n",
    "print(my_2d_numpy_list)                     # print the contents of the 2D NumPy array"
   ]
  },
  {
   "cell_type": "code",
   "execution_count": null,
   "metadata": {},
   "outputs": [],
   "source": [
    "# PGE Lab 8, Step 6, NumPy_Example.py [2-Dimensional Arrays in NumPy - Extra Notes]\n",
    "\n",
    "import numpy as np              # import the NumPy libary, but also gives it an alias 'np'. This means that in later code, you can use 'np' in place of 'numpy'. Aliases can be used for any libraries that you import - not only NumPy.\n",
    "\n",
    "# How do standard Python lists compare to NumPy arrays?\n",
    "# Let's try with an example:\n",
    "\n",
    "#First let us create some Python Lists:\n",
    "list_a = [1, 1, 1]                      # create a standard Python list containing three '1's\n",
    "list_b = [2, 2, 2]                      # create a standard Python list containing three '2's\n",
    "result_list = list_a + list_b           # add the two lists together\n",
    "\n",
    "array_a = np.array([1, 1, 1])           # create a NumPy array containing three '1's\n",
    "array_b = np.array([2, 2, 2])           # create a NumPy array containing three '2's\n",
    "result_array = array_a + array_b        # add the two NumPy arrays together\n",
    "concat_array = np.concatenate((array_a, array_b)) # concatenate the two NumPy arrays together\n",
    "\n",
    "print(f'LIST: When [1, 1, 1] is added to [2, 2, 2], the result is: {result_list}')\n",
    "print()\n",
    "print(f'NUMPY ARRAY: When [1, 1, 1] is added to [2, 2, 2], the result is: {result_array}')"
   ]
  },
  {
   "cell_type": "code",
   "execution_count": null,
   "metadata": {},
   "outputs": [],
   "source": [
    "# PGE Lab 8, Step 6, LinearGraph.py [Linear Graph using Matplotlib]\n",
    "\n",
    "import matplotlib.pyplot as plt                     # import the matplotlib library for plotting\n",
    "\n",
    "# Here we set the values needed for the x and y axes\n",
    "x = [1, 2, 3]                                       # create a list of x-axis values\n",
    "y = [1, 2, 3]                                       # create a list of y-axis values\n",
    "\n",
    "# Now we plot the graph\n",
    "plt.plot(x, y, 'go-', label='line1', linewidth=2)   # plot the x and y values as a line graph. The 3 characters in 'go-' each represent a graph option. 'g' means green, 'o' uses circles as markers, and '-' means the markers are connected by an uninterrupted solid line. Label is the name of the line, and linewidth is the thickness of the line.\n",
    "plt.title(\"Linear Graph\")                           # add a title to the graph\n",
    "plt.xlabel(\"x-axis\")                                # add a label to the x-axis\n",
    "plt.ylabel(\"y-axis\")                                # add a label to the y-axis\n",
    "plt.show()                                          # display the graph"
   ]
  },
  {
   "cell_type": "code",
   "execution_count": null,
   "metadata": {},
   "outputs": [],
   "source": [
    "# PGE Lab 8, Step 10, BarChart.py [Bar Charts using Matplotlib]\n",
    "\n",
    "import matplotlib.pyplot as plt                                 # import the matplotlib library for plotting\n",
    "\n",
    "fig, ax = plt.subplots()                                        # create a figure and axis object\n",
    "\n",
    "fruits = ['Apple', 'Blueberry', 'Cherry', 'Orange']             # create a list of fruits\n",
    "counts = [40, 100, 30, 55]                                      # create a list of counts for each fruit\n",
    "bar_labels =['red', 'blue', '_red', 'orange']                   # create a list of colours for each bar\n",
    "bar_colors =['tab:red', 'tab:blue', 'tab:red', 'tab:orange']    # create a list of colours for each bar\n",
    "\n",
    "bar_plot = ax.bar(fruits, counts, label=bar_labels, color=bar_colors)             # create a bar chart with the fruits on the x-axis and the counts on the y-axis. The colour of each bar is determined by the 'bar_colors' list.\n",
    "\n",
    "ax.set_title('Fruit supply by kind and color')                # add a title to the bar chart\n",
    "ax.set_xlabel('Fruits')                                      # add a label to the x-axis\n",
    "ax.set_ylabel('Fruit Supply')\n",
    "\n",
    "# Filter out labels that start with an underscore\n",
    "filtered_handles_labels = [(handle, label) for handle, label in zip(bar_plot, bar_labels) if not label.startswith('_')]\n",
    "filtered_handles, filtered_labels = zip(*filtered_handles_labels)                                  # add a label to the y-axis\n",
    "ax.legend(handles=filtered_handles, labels=filtered_labels, title='Fruit color')\n",
    "\n",
    "#ax.legend(handles=bar_plot, labels=bar_labels, title='Fruit color')        # add a legend to the bar chart\n",
    "\n",
    "plt.show()                                                  # display the bar chart"
   ]
  },
  {
   "cell_type": "code",
   "execution_count": 3,
   "metadata": {},
   "outputs": [
    {
     "data": {
      "image/png": "[encoded data removed]",
      "text/plain": [
       "<Figure size 640x480 with 1 Axes>"
      ]
     },
     "metadata": {},
     "output_type": "display_data"
    }
   ],
   "source": [
    "# PGE Lab 8, Step 10, GroupedBarChart.py [Grouped Bar Charts using Matplotlib]\n",
    "\n",
    "import numpy as np\n",
    "import matplotlib.pyplot as plt\n",
    "\n",
    "fig, ax = plt.subplots()\n",
    "years = ['2015', '2016', '2017', '2018']             # create a list of years\n",
    "data = [[30,25,50,20], [40,23,51,17], [35,22,45,19]]  # create a list of lists, where each list contains the number of students in each year for a particular subject\n",
    "\n",
    "x = np.arange(len(years))                           # create an array of values from 0 to the number of years\n",
    "width = 0.25                                        # set the width of the bars\n",
    "multiplier = 0\n",
    "\n",
    "for i in range(len(data)):                          # iterate through the data list\n",
    "    offset = width * multiplier                    # calculate the offset\n",
    "    rects = ax.bar(x + offset, data[i], width)  # create a bar chart for each set of data, with the bars grouped together\n",
    "    ax.bar_label(rects, padding=3)                  # add labels to the bars\n",
    "    multiplier += 1\n",
    "\n",
    "ax.set_title(\"Data collected for last 4 years\")\n",
    "ax.set_xticks(x + width, years)                            # set the x-ticks to be in the middle of each group of bars\n",
    "ax.set_ylim(0, 70)                                       # set the y-axis limits\n",
    "\n",
    "plt.show()                                              # display the grouped bar chart\n"
   ]
  }
 ],
 "metadata": {
  "kernelspec": {
   "display_name": "Python 3",
   "language": "python",
   "name": "python3"
  },
  "language_info": {
   "codemirror_mode": {
    "name": "ipython",
    "version": 3
   },
   "file_extension": ".py",
   "mimetype": "text/x-python",
   "name": "python",
   "nbconvert_exporter": "python",
   "pygments_lexer": "ipython3",
   "version": "3.13.2"
  }
 },
 "nbformat": 4,
 "nbformat_minor": 2
}
