{
 "cells": [
  {
   "cell_type": "markdown",
   "metadata": {},
   "source": [
    "# Lab 8 - NumPy"
   ]
  },
  {
   "cell_type": "code",
   "execution_count": null,
   "metadata": {},
   "outputs": [],
   "source": [
    "# PGE Lab 8, Step 4, NumPy_Example.py [Basic NumPy - Creating a simply array with contents]\n",
    "\n",
    "import numpy                    # import the NumPy libary\n",
    "\n",
    "my_array = numpy.arange(10)     # create a NumPy array containing 10 elements - 0 to 9.\n",
    "print(my_array)                 # print the contents of the array 'my_array'"
   ]
  },
  {
   "cell_type": "code",
   "execution_count": null,
   "metadata": {},
   "outputs": [],
   "source": [
    "# PGE Lab 8, Step 5, NumPy_Example.py\n",
    "\n",
    "import numpy as np              # import the NumPy libary, but also gives it an alias 'np'. This means that in later code, you can use 'np' in place of 'numpy'. Aliases can be used for any libraries that you import - not only NumPy.\n",
    "\n",
    "my_array = np.arange(10)        # create a NumPy array containing 10 elements - 0 to 9.\n",
    "print(my_array)                 # print the contents of the array 'my_array'"
   ]
  }
 ],
 "metadata": {
  "language_info": {
   "name": "python"
  }
 },
 "nbformat": 4,
 "nbformat_minor": 2
}
