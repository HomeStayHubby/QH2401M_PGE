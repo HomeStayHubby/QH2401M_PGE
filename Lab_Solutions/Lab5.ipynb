{
 "cells": [
  {
   "cell_type": "markdown",
   "id": "1984fcbb2ffbff13",
   "metadata": {},
   "source": [
    "# PGE Lab 5 - Loops"
   ]
  },
  {
   "cell_type": "code",
   "execution_count": null,
   "id": "710289226b879a0c",
   "metadata": {
    "ExecuteTime": {
     "end_time": "2025-01-30T07:28:08.100293Z",
     "start_time": "2025-01-30T07:28:08.086262Z"
    }
   },
   "outputs": [],
   "source": [
    "# PGE Lab 5, Step 4, WhileLoop.py [While Loop Increment]\n",
    "\n",
    "i = 0                               # Sets i to the initial value of 0\n",
    "\n",
    "while i <= 10:                      # While loop begins - Checks if i is less than or equals to 0. If yes, proceed into loop. If no, exit.\n",
    "    print(i)                        # Prints the current value of i\n",
    "    i += 1                          # Then, add 1 to current value of i.\n",
    "\n",
    "print(\"We are out of the Loop\")     # Prints only after loop is exited."
   ]
  },
  {
   "cell_type": "code",
   "execution_count": null,
   "id": "1d9957cf413a98c1",
   "metadata": {
    "ExecuteTime": {
     "end_time": "2025-01-30T07:28:08.130904Z",
     "start_time": "2025-01-30T07:28:08.123862Z"
    }
   },
   "outputs": [],
   "source": [
    "# PGE Lab 5, Step 6, WhileLoop.py [Activity Time]\n",
    "\n",
    "i = 1                               # Sets i to the initial value of 1\n",
    "\n",
    "while i <= 5:                      # While loop begins - Checks if i is less than or equals to 0. If yes, proceed into loop. If no, exit.\n",
    "    print(i)                        # Prints the current value of i\n",
    "    i += 1                          # Then, add 1 to current value of i.\n",
    "\n",
    "print(\"We are out of the Loop\")     # Prints only after loop is exited."
   ]
  },
  {
   "cell_type": "code",
   "execution_count": null,
   "id": "bd817aaf0fe5b19a",
   "metadata": {
    "ExecuteTime": {
     "end_time": "2025-01-30T07:28:08.222814Z",
     "start_time": "2025-01-30T07:28:08.213833Z"
    }
   },
   "outputs": [],
   "source": [
    "# PGE Lab 5, Step 8, WhileLoop.py [While Loop Decrement]\n",
    "\n",
    "i = 10                               # Sets i to the initial value of 10\n",
    "\n",
    "while i >= 0:                      # While loop begins - Checks if i is less than or equals to 0. If yes, proceed into loop. If no, exit.\n",
    "    print(i)                        # Prints the current value of i\n",
    "    i -= 1                          # Then, deduct 1 from current value of i.\n",
    "\n",
    "print(\"We are out of the Loop\")     # Prints only after loop is exited."
   ]
  },
  {
   "cell_type": "code",
   "execution_count": null,
   "id": "7f7fbf230b91fba5",
   "metadata": {
    "ExecuteTime": {
     "end_time": "2025-01-30T07:28:08.284650Z",
     "start_time": "2025-01-30T07:28:08.268661Z"
    }
   },
   "outputs": [],
   "source": [
    "# PGE Lab 5, Step 11, WhileLoop.py [Break from While Loop]\n",
    "\n",
    "c = 1                               # Set c to the initial value of 1\n",
    "while c < 6:                        # While loop begins - Checks if c is LESS than (but NOT EQUALS to) 6. If Yes, proceed with loop. If not, exit loop.\n",
    "    print(c)                        # Prints the current value of c\n",
    "    if c == 3:                      # While IN the loop, check if c has the value of 3. If so, proceed to contained action statement(s). If not, continue with While loop.\n",
    "        break                       # Should the if condition be fulfilled, exit (break from) the loop. This is even if the original while condition of c < 6 is not fulfilled.\n",
    "    c += 1                          # Should the if condition NOT be fulfilled, this line would run and c is incremented by 1\n",
    "\n",
    "print(\"We are out of the Loop\")     # Prints when the while loop is exited."
   ]
  },
  {
   "cell_type": "code",
   "execution_count": null,
   "id": "4efb9edb52440765",
   "metadata": {
    "ExecuteTime": {
     "end_time": "2025-01-30T07:28:08.346682Z",
     "start_time": "2025-01-30T07:28:08.331645Z"
    }
   },
   "outputs": [],
   "source": [
    "# PGE Lab 5, Step 11, WhileLoop.py [Continue from While Loop]\n",
    "\n",
    "d = 1                               # Set d to the initial value of 1\n",
    "while d < 6:                        # While loop begins - Checks if d is LESS than (but NOT EQUALS to) 6. If Yes, proceed with loop. If not, exit loop.\n",
    "    d += 1                          # Once in the loop, increment the value of d by 1\n",
    "    if d == 3:                      # Check if d has the value of 3. If so, proceed to contained action statement(s). If not, continue with While loop.\n",
    "        continue                       # Should the if condition be fulfilled, skip the rest of the current iteration of the while loop and go on to the next iteration of the while loop. This is even if the original while condition of c < 6 is not yet fulfilled.\n",
    "    print(d)                        # Should the if condition NOT be fulfilled, this line that prints the current iteration of d is run.\n",
    "\n",
    "\n",
    "print(\"We are out of the Loop\")     # Prints when the while loop is exited."
   ]
  },
  {
   "cell_type": "code",
   "execution_count": null,
   "id": "e0e11f16b9d0faf9",
   "metadata": {
    "ExecuteTime": {
     "end_time": "2025-01-30T07:28:09.758262Z",
     "start_time": "2025-01-30T07:28:08.370650Z"
    }
   },
   "outputs": [],
   "source": [
    "# PGE Lab 5, Step 15, WhileLoop.py [Using While Loops to Validate Input - Numerical]\n",
    "\n",
    "number = int(input(\"Enter a number between 1 to 4: \"))      # Gets an input from the user, converts it to an integer and assigns it to the variable number\n",
    "while number > 4 or number < 1:                             # While loop begins - Checks if number is GREATER than 4 or LESS than 1. If Yes, proceed with loop. If not, exit loop.\n",
    "    print(\"You must enter a number between 1 and 4!\")       # If the conditions of the input being GREATER than 4 or LESS than 1 is met, inform the user to enter a number within the range\n",
    "    number = int(input(\"Enter a number between 1 to 4: \"))  # Asks the user for the correct input again\n",
    "\n",
    "print(f\"The number you have entered is {number}\")           # Once the correct input was given, the loop is exited and the number enters is displayed to the user in a message"
   ]
  },
  {
   "cell_type": "code",
   "execution_count": null,
   "id": "923bf9551b518f3c",
   "metadata": {
    "ExecuteTime": {
     "end_time": "2025-01-30T07:28:09.791231800Z",
     "start_time": "2025-01-30T07:16:18.619743Z"
    }
   },
   "outputs": [],
   "source": [
    "# PGE Lab 5, Step 17, WhileLoop.py [Using While Loops to Validate Input - Strings]\n",
    "\n",
    "answer = input(\"Are you a student from ITE?\")       # Gets an input from the user and assigns it to the variable answer\n",
    "while answer !=\"yes\" and answer != \"no\":            # While loop begins - Checks if answer is NOT EQUAL to \"yes\" and NOT EQUAL to \"no\". If Yes, proceed with loop. If not, exit loop.\n",
    "    print(\"Please enter 'yes' or 'no' only!\")       # If the answer given was neither yes nor no, inform the user that only yes and no are accepted\n",
    "    answer = input(\"Are you a student from ITE?\")   # Ask the user for input again. Loop until the accepted answers were given. Exit ifthe accepted answers were given.\n",
    "\n",
    "if answer == \"yes\":                                 # Check if the answer given was \"yes\", if so, proceed to the contained action statement(s)\n",
    "    print(\"Hello there!\")                           # If the answer given was \"yes\", print the message \"Hello there!\". Do nothing if the answer was not yes, and proceed onwards.\n",
    "\n",
    "if answer == \"no\":                                  # Now check if the answer given was \"no\", if so, proceed to the contained action statement(s)\n",
    "    print(\"Who are you?\")                           # If the answer given was \"no\", print the message \"Who are you?\". Otherwise, do nothing."
   ]
  },
  {
   "cell_type": "code",
   "execution_count": null,
   "id": "452d3154835fbcd",
   "metadata": {
    "ExecuteTime": {
     "end_time": "2025-01-30T07:28:09.812255400Z",
     "start_time": "2025-01-30T07:18:10.109033Z"
    }
   },
   "outputs": [],
   "source": [
    "# PGE Lab 5, Step 18, WhileLoop.py [Using While Loops to Validate Input - Strings with Case Standarization]\n",
    "\n",
    "answer = input(\"Are you a student from ITE?\")       # Gets an input from the user and assigns it to the variable answer\n",
    "answer = answer.lower()                             # Converts the input to all lowercase letters\n",
    "while answer !=\"yes\" and answer != \"no\":            # While loop begins - Checks if answer is NOT EQUAL to \"yes\" and NOT EQUAL to \"no\". If Yes, proceed with loop. If not, exit loop.\n",
    "    print(\"Please enter 'yes' or 'no' only!\")       # If the answer given was neither yes nor no, inform the user that only yes and no are accepted\n",
    "    answer = input(\"Are you a student from ITE?\")   # Ask the user for input again. Loop until the accepted answers were given. Exit ifthe accepted answers were given.\n",
    "    answer = answer.lower()                         # Converts the input to all lowercase letters, then restart the loop.\n",
    "\n",
    "if answer == \"yes\":                                 # Check if the answer given was \"yes\", if so, proceed to the contained action statement(s)\n",
    "    print(\"Hello there!\")                           # If the answer given was \"yes\", print the message \"Hello there!\". Do nothing if the answer was not yes, and proceed onwards.\n",
    "\n",
    "if answer == \"no\":                                  # Now check if the answer given was \"no\", if so, proceed to the contained action statement(s)\n",
    "    print(\"Who are you?\")                           # If the answer given was \"no\", print the message \"Who are you?\". Otherwise, do nothing."
   ]
  },
  {
   "cell_type": "code",
   "execution_count": null,
   "id": "618fac616cd04b17",
   "metadata": {
    "ExecuteTime": {
     "end_time": "2025-01-30T09:35:28.096714Z",
     "start_time": "2025-01-30T09:35:00.482241Z"
    }
   },
   "outputs": [],
   "source": [
    "# PGE Lab 5, Step 19, WhileLoop.py [Activity Time - Version 1 - Using a variable to_prompt to check if while needs to repeat]\n",
    "\n",
    "to_prompt = True                                                            # Creates a variable to track if the user needs to be prompted for a/another calculation\n",
    "another_calculation = \"\"                                                    # creates a variable to store the user's response to whether they want to do another calculation\n",
    "\n",
    "while to_prompt == True:                                                    # Outer While loop to ask for user input - depends on the value of to_prompt (initially set to True, which runs the loop)\n",
    "    print(\"Welcome to BMI Calculation!\")                                    # Print a welcome message\n",
    "    weight = float(input(\"Enter your weight (in kgs): \"))                   # Ask the user for their weight in kgs, convert it to a float and store it in the variable weight\n",
    "    height = float(input(\"Enter your height (in cm): \"))                    # Ask the user for their height in cm, convert it to a float and store it in the variable height\n",
    "    height = height * 0.01                                                  # Convert the height from cm to m by multiplying it by 0.01\n",
    "    BMI = weight / (height * height)                                        # Calculate the BMI by dividing the weight by the square of the height\n",
    "    print(f\"The BMI is {BMI:.02f}\")                                         # Print the BMI to 2 decimal places\n",
    "\n",
    "    another_calculation = input(\"Another BMI Calculation (Yes/No)? \")       # Ask the user if they want to do another calculation\n",
    "    another_calculation = another_calculation.lower()                       # Convert the user's response to lowercase\n",
    "    while another_calculation != \"yes\" and another_calculation != \"no\":     # Inner While loop to check if the user's response is not \"yes\" AND not \"no\" - if so, it means it's not an accepted response\n",
    "        print(\"Please enter 'yes' or 'no' only!\")                           # Inform the user that only \"yes\" and \"no\" are accepted\n",
    "        another_calculation = input(\"Another BMI Calculation (Yes/No)? \")   # Ask the user for their response again\n",
    "        another_calculation = another_calculation.lower()                   # Convert the user's response to lowercase\n",
    "    if another_calculation == \"no\":                                         # If the user's response was \"no\" (meaning they no longer wish to enter any more calculations), proceed to the contained action statement(s)\n",
    "        to_prompt = False                                                   # Set to_prompt to False, so that when the while loops begins again, it exits the loop (since the condition for the loop is to_prompt == True)\n",
    "\n",
    "print(\"End of Program!\")                                                    # After exiting from outer While loop, print the message \"End of Program!\" to inform the user that the program has ended\n",
    "\n"
   ]
  },
  {
   "cell_type": "code",
   "execution_count": null,
   "id": "259781bd",
   "metadata": {},
   "outputs": [],
   "source": [
    "# PGE Lab 5, Step 19, WhileLoop.py [Activity Time - Version 2 - Using while True and a break to exit the loop]\n",
    "\n",
    "another_calculation = \"\"                                                    # creates a variable to store the user's response to whether they want to do another calculation\n",
    "\n",
    "while True:                                                                 # Outer While loop to ask for user input - it is always True, so to break out, a Break statement must be set at some point)\n",
    "    print(\"Welcome to BMI Calculation!\")                                    # Print a welcome message\n",
    "    weight = float(input(\"Enter your weight (in kgs): \"))                   # Ask the user for their weight in kgs, convert it to a float and store it in the variable weight\n",
    "    height = float(input(\"Enter your height (in cm): \"))                    # Ask the user for their height in cm, convert it to a float and store it in the variable height\n",
    "    height = height * 0.01                                                  # Convert the height from cm to m by multiplying it by 0.01\n",
    "    BMI = weight / (height * height)                                        # Calculate the BMI by dividing the weight by the square of the height\n",
    "    print(f\"The BMI is {BMI:.02f}\")                                         # Print the BMI to 2 decimal places\n",
    "\n",
    "    another_calculation = input(\"Another BMI Calculation (Yes/No)? \")       # Ask the user if they want to do another calculation\n",
    "    another_calculation = another_calculation.lower()                       # Convert the user's response to lowercase\n",
    "    while another_calculation != \"yes\" and another_calculation != \"no\":     # Inner While loop to check if the user's response is not \"yes\" AND not \"no\" - if so, it means it's not an accepted response\n",
    "        print(\"Please enter 'yes' or 'no' only!\")                           # Inform the user that only \"yes\" and \"no\" are accepted\n",
    "        another_calculation = input(\"Another BMI Calculation (Yes/No)? \")   # Ask the user for their response again\n",
    "        another_calculation = another_calculation.lower()                   # Convert the user's response to lowercase\n",
    "    if another_calculation == \"no\":                                         # If the user's response was \"no\" (meaning they no longer wish to enter any more calculations), proceed to the contained action statement(s)\n",
    "        break                                                               # Exit the outer while loop\n",
    "\n",
    "print(\"End of Program!\")   "
   ]
  },
  {
   "cell_type": "code",
   "execution_count": null,
   "id": "37b79bd55cf41d72",
   "metadata": {
    "ExecuteTime": {
     "end_time": "2025-01-30T10:48:53.000757Z",
     "start_time": "2025-01-30T10:48:52.982577Z"
    }
   },
   "outputs": [],
   "source": [
    "# PGE Lab 5, Step 22, ForLoop.py [Basic For Loop - Lists]\n",
    "\n",
    "fruits = [\"apple\", \"banana\", \"cherry\", \"durian\"]    # Creates a list of fruits\n",
    "\n",
    "for x in fruits:                                    # For loop begins - For each item in the list fruits, do the contained action statement(s)\n",
    "    print(x)                                        # Print the current item in the list fruits"
   ]
  },
  {
   "cell_type": "code",
   "execution_count": null,
   "id": "af9dfb5bbcb441db",
   "metadata": {
    "ExecuteTime": {
     "end_time": "2025-01-30T10:50:47.627725Z",
     "start_time": "2025-01-30T10:50:47.620160Z"
    }
   },
   "outputs": [],
   "source": [
    "# PGE Lab 5, Step 24, ForLoop.py [Basic For Loop - Strings]\n",
    "\n",
    "for x in \"watermelon\":  # For loop begins - For each character in the string \"watermelon\", do the contained action statement(s)\n",
    "    print(x)            # Print the current character in the string \"watermelon\""
   ]
  },
  {
   "cell_type": "code",
   "execution_count": null,
   "id": "e752e334f322935a",
   "metadata": {},
   "outputs": [],
   "source": [
    "# PGE Lab 5, Step 25, ForLoop.py [For Loops - Break]\n",
    "\n",
    "fruits = [\"apple\", \"banana\", \"cherry\"]  # Creates a list of fruits\n",
    "for x in fruits:                        # For loop begins - For each item in the list fruits, do the contained action statement(s)\n",
    "    if x == \"banana\":                   # However, check if the current item in the list is \"banana\". If so, proceed to the contained action statement(s)\n",
    "        break                           # If the current item in the list is \"banana\", exit the loop (this will disregard the remaining action statements in the For loop)\n",
    "    print(x)                            # Should the If statement not be fulfilled, print the current item in the list fruits\n",
    "    "
   ]
  },
  {
   "cell_type": "code",
   "execution_count": null,
   "id": "170d22a1aa682d04",
   "metadata": {},
   "outputs": [],
   "source": [
    "# PGE Lab 5, Step 25, ForLoop.py [For Loops - Continue]\n",
    "\n",
    "fruits = [\"apple\", \"banana\", \"cherry\"]  # Creates a list of fruits\n",
    "for x in fruits:                        # For loop begins - For each item in the list fruits, do the contained action statement(s)\n",
    "    if x == \"banana\":                   # However, check if the current item in the list is \"banana\". If so, proceed to the contained action statement(s)\n",
    "        continue                        # If the current item in the list is \"banana\", skip the remaining action statements in the For loop (in this case, the print(x) statement) and proceed to the next item in the list\n",
    "    print(x)                            # Should the If statement not be fulfilled, print the current item in the list fruits"
   ]
  },
  {
   "cell_type": "code",
   "execution_count": null,
   "id": "7de8f7ec4f0e9387",
   "metadata": {
    "ExecuteTime": {
     "end_time": "2025-01-30T11:16:20.209893Z",
     "start_time": "2025-01-30T11:16:20.197841Z"
    }
   },
   "outputs": [],
   "source": [
    "# PGE Lab 5, Step 27, ForLoop.py [For Loops - Range - Basic]\n",
    "\n",
    "for x in range(8):      # For loop begins - For each number in the range of 0 to 8 (not including 8), do the contained action statement(s). With each round, the value of x is incremented by 1\n",
    "    print(x)            # Print the current number (x) in the range"
   ]
  },
  {
   "cell_type": "code",
   "execution_count": null,
   "id": "9c507541150dc559",
   "metadata": {
    "ExecuteTime": {
     "end_time": "2025-01-30T11:16:55.697288Z",
     "start_time": "2025-01-30T11:16:55.676295Z"
    }
   },
   "outputs": [],
   "source": [
    "# PGE Lab 5, Step 28, ForLoop.py [For Loops - Range - Start and Stop]\n",
    "\n",
    "for x in range(2, 6):   # For loop begins - For each number in the range of 2 to 6 (not including 6), do the contained action statement(s). With each round, the value of x is incremented by 1\n",
    "    print(x)            # Print the current number (x) in the range"
   ]
  },
  {
   "cell_type": "code",
   "execution_count": null,
   "id": "d03b81880f5e752d",
   "metadata": {
    "ExecuteTime": {
     "end_time": "2025-01-30T11:17:31.142315Z",
     "start_time": "2025-01-30T11:17:31.134314Z"
    }
   },
   "outputs": [],
   "source": [
    "# PGE Lab 5, Step 29, ForLoop.py [For Loops - Range - Start, Stop and Interval]\n",
    "\n",
    "for x in range(2, 20, 3):   # For loop begins - For each number in the range of 2 to 20 (not including 20), with an interval of 3, do the contained action statement(s). With each round, the value of x is incremented by 3\n",
    "    print(x)                # Print the current number (x) in the range"
   ]
  },
  {
   "cell_type": "code",
   "execution_count": null,
   "id": "cf2acc632c8f3197",
   "metadata": {
    "ExecuteTime": {
     "end_time": "2025-01-30T11:27:22.861756Z",
     "start_time": "2025-01-30T11:27:22.852750Z"
    }
   },
   "outputs": [],
   "source": [
    "# PGE Lab 5, Step 31, ForLoop.py [For Loops - Range - Activity Time]\n",
    "\n",
    "list_of_square = []                 # Creates an empty list to store the square of numbers\n",
    "for x in range(1, 11):              # For loop begins - For each number in the range of 1 to 11 (not including 11), do the contained action statement(s). With each round, the value of x is incremented by 1\n",
    "    list_of_square.append(x ** 2)   # For each number (x) in the range, calculate the square of the number (x to the power of 2; or x multipled by x) and append it to the list list_of_square\n",
    "\n",
    "print(list_of_square)               # Print the list list_of_square, which contains the square of numbers from 1 to 10"
   ]
  },
  {
   "cell_type": "code",
   "execution_count": null,
   "id": "676b0eb4e590834e",
   "metadata": {
    "ExecuteTime": {
     "end_time": "2025-01-30T11:54:35.106824Z",
     "start_time": "2025-01-30T11:54:18.403268Z"
    }
   },
   "outputs": [],
   "source": [
    "# PGE Lab 5, Step 33, Assignment1.py [Assignment - Okay Answer]\n",
    "\n",
    "input_numbers = []                                                                                          # Creates an empty list to store the input numbers  \n",
    "print(\"Please enter 5 integer numbers: \")                                                                   # Print a message to prompt the user to enter 5 integer numbers\n",
    "for x in range(1, 6):                                                                                       # For loop begins - For each number in the range of 1 to 6 (not including 6), do the contained action statement(s). With each round, the value of x is incremented by 1 \n",
    "    input_numbers.append(int(input(f\"Please enter {x} number: \")))                                          # For each number in the range, ask the user to input an integer number and append it to the list input_numbers\n",
    "sum_numbers = input_numbers[0] + input_numbers[1] + input_numbers[2] + input_numbers[3] + input_numbers[4]  # Calculate the sum of the 5 numbers in the list input_numbers. Here to keep things simple I hardcoded the indexes of the list items to add. You can also choose to use a loop to go through all the items, or simply use the sum() function that is available in Python.\n",
    "avg_numbers = sum_numbers / 5                                                                               # Calculate the average of the 5 numbers in the list input_numbers. Here to keep things simple I hardcoded the divisor to be 5 since we know we have 5 items. You can also choose to use the length of the list input_numbers to get the number of items in the list.\n",
    "input_numbers.sort()                                                                                        # To get the lowest number, I will sort the list input_numbers in ascending order    \n",
    "lowest_numbers = input_numbers[0]                                                                           # This means the 1st item in the sorted list (index 0) is now the lowest number. I assign this value to the variable lowest_numbers\n",
    "input_numbers.sort(reverse=True)                                                                            # To get the highest number, I will sort the list input_numbers in descending order (by setting reverse=True in my sort function)\n",
    "highest_number = input_numbers[0]                                                                           # This means the 1st item in the sorted list (index 0) is now the highest number. I assign this value to the variable highest_number\n",
    "print(f\"The List of numbers: None\")                                                                         # Print a message to show the list of number entered by the user. Since the example output show None instead of the actual list, I will hardcode this value.\n",
    "print(f\"Average: {avg_numbers}\")                                                                            # Print the average of the 5 numbers using the variable avg_numbers that we got earlier\n",
    "print(f\"Lowest Number: {lowest_numbers}\")                                                                   # Print the lowest number using the variable lowest_numbers that we got earlier\n",
    "print(f\"Highest Number: {highest_number}\")                                                                  # Print the highest number using the variable highest_number that we got earlier\n",
    "\n",
    "\n"
   ]
  },
  {
   "cell_type": "code",
   "execution_count": null,
   "id": "50cf7492895b8252",
   "metadata": {
    "ExecuteTime": {
     "end_time": "2025-01-30T11:38:26.194844Z",
     "start_time": "2025-01-30T11:38:11.675599Z"
    }
   },
   "outputs": [],
   "source": [
    "# PGE Lab 5, Step 33, Assignment1.py [Assignment - Enhanced Answer]\n",
    "\n",
    "cardinals = {1: \"st\", 2: \"nd\", 3: \"rd\", 4: \"th\", 5: \"th\"}                           # The original prompts were confusing as it asked for the 1st to 5th numbers but looked as if it was looking for 1 to 5 numbers each time. I created a dictionary to store the cardinal suffixes (e.g. 1st, 2nd, 3rd, 4th) for the numbers 1 to 5. This way, I can easily get the correct suffix for each number.\n",
    "input_numbers = []                                                                  # Creates an empty list to store the input numbers obtained from the user\n",
    "print(\"Please enter 5 integer numbers: \")                                           # Print a message to prepare the user to enter 5 integer numbers\n",
    "for x in range(1, 6):                                                               # Using a For loop, I will iterate through the range of numbers from 1 to 6 (not including 6). With each iteration, the value of x will be incremented by 1\n",
    "    input_numbers.append(int(input(f\"Please enter {x}{cardinals[x]} number: \")))    # Within the For loop, I will ask the user to input an integer number and append it to the list input_numbers. To clearly show which item it is, I will append a cardinal suffix to each number (x) using the dictionary cardinals that I created earlier\n",
    "sum_numbers = sum(input_numbers)                                                    # Instead of adding the input numbers manually one-by-one, I will use the sum() function to calculate the sum of all the numbers in the list input_numbers\n",
    "avg_numbers = sum_numbers / len(input_numbers)                                      # Using the sum of the numbers (assigned to sum_numbers earlier) and the length (i.e. 5 items) of the list input_numbers, I will calculate the average of the numbers and assign it to the variable avg_numbers\n",
    "lowest_number = min(input_numbers)                                                  # To get the lowest number, I will use the min() function to get the smallest number in the list input_numbers and assign it to the variable lowest_number\n",
    "highest_number = max(input_numbers)                                                 # To get the highest number, I will use the max() function to get the largest number in the list input_numbers and assign it to the variable highest_number\n",
    "print(f\"The List of numbers: {input_numbers}\")                                      # Print the actual list of numbers entered by the user using the list input_numbers (it should not have been None)\n",
    "print(f\"Sum: {sum_numbers}\")                                                        # Print the sum of the 5 numbers using the variable sum_numbers that we got earlier\n",
    "print(f\"Average: {avg_numbers}\")                                                    # Print the average of the 5 numbers using the variable avg_numbers that we got earlier\n",
    "print(f\"Lowest Number: {lowest_number}\")                                            # Print the lowest number using the variable lowest_number that we got earlier\n",
    "print(f\"Highest Number: {highest_number}\")                                          # Print the highest number using the variable highest_number that we got earlier\n",
    "\n"
   ]
  },
  {
   "cell_type": "code",
   "execution_count": null,
   "id": "816e7a99-3804-4271-a3d7-4661a5779136",
   "metadata": {},
   "outputs": [],
   "source": [
    "# PGE Lab 5, Step 34, Assignment2.py [Assignment]\n",
    "\n",
    "another_calculation = \"\"                                                                # creates a variable to store the user's response to whether they want to do another calculation\n",
    "subtotal = []                                                                           # Creates an empty list to store the prices of the products entered by the user \n",
    "\n",
    "while True:                                                                             # Outer While loop to ask for user input - it is always True, so to break out, a Break statement must be set at some point. See Step 19 Version 1 above for another way to do it without using Break)\n",
    "    product_name = input(\"Please enter the product name: \")                             # Ask the user for the name of the product and store it in the variable product_name (actually not sure why because this data is never used again later)\n",
    "    product_price = float(input(\"Please enter the product price: $\"))                   # Ask the user for the price of the product and store it in the variable product_price\n",
    "    subtotal.append(product_price)                                                      # Append the price of the product to the list subtotal\n",
    "  \n",
    "    another_calculation = input(\"Do you want to add in another product (Yes/No)? \")     # Ask the user if they want to add in another product\n",
    "    another_calculation = another_calculation.lower()                                   # Convert the user's response to lowercase\n",
    "    while another_calculation != \"yes\" and another_calculation != \"no\":                 # Inner While loop to check if the user's response is not \"yes\" AND not \"no\" - if so, it means it's not an accepted response\n",
    "        print(\"Please enter 'yes' or 'no' only!\")                                       # Inform the user that only \"yes\" and \"no\" are accepted\n",
    "        another_calculation = input(\"Do you want to add in another product (Yes/No)? \") # Ask the user for their response again\n",
    "    if another_calculation == \"no\":                                                     # If the user's response was \"no\" (meaning they no longer wish to enter any more products), proceed to the contained action statement(s)\n",
    "        break                                                                           # Break from the outer while loop, so that the control is passed to the outer while loop, which can now exit.\n",
    "\n",
    "sum_price = sum(subtotal)                                                               # Calculate the sum of the prices of the products entered by the user, assign it to the variable sum_price\n",
    "avg_price = sum_price / len(subtotal)                                                   # Calculate the average price of the products entered by the user, assign it to the variable avg_price\n",
    "lowest_price = min(subtotal)                                                            # Get the lowest price of the products entered by the user, assign it to the variable lowest_price  \n",
    "highest_price = max(subtotal)                                                           # Get the highest price of the products entered by the user, assign it to the variable highest_price\n",
    "print(f\"Sum: ${sum_price:.02f}\")                                                        # Print the sum of the prices of the products entered by the user (i.e. sum_price) to 2 decimal places\n",
    "print(f\"Average: ${avg_price:.02f}\")                                                    # Print the average price of the products entered by the user (i.e. avg_price) to 2 decimal places\n",
    "print(f\"Lowest Price: {lowest_price:.02f}\")                                             # Print the lowest price of the products entered by the user (i.e. lowest_price) to 2 decimal places\n",
    "print(f\"Highest Price: {highest_price:.02f}\")                                           # Print the highest price of the products entered by the user (i.e. highest_price) to 2 decimal places"
   ]
  },
  {
   "cell_type": "markdown",
   "id": "86ddaec4-5785-4890-b6e7-33a6d5b6465f",
   "metadata": {},
   "source": [
    "## End of Lab 5"
   ]
  }
 ],
 "metadata": {
  "kernelspec": {
   "display_name": "Python 3",
   "language": "python",
   "name": "python3"
  },
  "language_info": {
   "codemirror_mode": {
    "name": "ipython",
    "version": 3
   },
   "file_extension": ".py",
   "mimetype": "text/x-python",
   "name": "python",
   "nbconvert_exporter": "python",
   "pygments_lexer": "ipython3",
   "version": "3.10.12"
  }
 },
 "nbformat": 4,
 "nbformat_minor": 5
}
