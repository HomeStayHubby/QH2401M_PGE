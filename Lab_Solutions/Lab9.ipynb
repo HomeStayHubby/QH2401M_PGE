{
 "cells": [
  {
   "cell_type": "markdown",
   "metadata": {},
   "source": [
    "# PGE Lab 9 - Pandas"
   ]
  },
  {
   "cell_type": "code",
   "execution_count": null,
   "metadata": {},
   "outputs": [],
   "source": [
    "#PGE Lab 9, Step 3 [Basic File Import with Pandas, print dataframe as string]\n",
    "\n",
    "import pandas as pd                                         # import pandas library\n",
    "\n",
    "df = pd.read_csv('../data_files/Int_Monthly_Visitor.csv')   # read the csv file\n",
    "print(df.to_string())                                       # print the entire data frame using to_string() method"
   ]
  },
  {
   "cell_type": "code",
   "execution_count": null,
   "metadata": {},
   "outputs": [],
   "source": [
    "#PGE Lab 9, Step 3 [Basic File Import with Pandas, print dataframe]\n",
    "\n",
    "import pandas as pd                                         # import pandas library\n",
    "\n",
    "df = pd.read_csv('../data_files/Int_Monthly_Visitor.csv')   # read the csv file\n",
    "print(df)                                                   # print the entire data frame"
   ]
  },
  {
   "cell_type": "code",
   "execution_count": null,
   "metadata": {},
   "outputs": [],
   "source": [
    "#PGE Lab 9, Step 3 [Basic File Import with Pandas, print head of dataframe]\n",
    "\n",
    "import pandas as pd                                         # import pandas library\n",
    "\n",
    "df = pd.read_csv('../data_files/Int_Monthly_Visitor.csv')   # read the csv file\n",
    "df.head()                                                   # print the head (top x number of rows, defaults to 5) of the dataframe"
   ]
  },
  {
   "cell_type": "code",
   "execution_count": null,
   "metadata": {},
   "outputs": [],
   "source": [
    "#PGE Lab 9, Step 3 [Basic File Import with Pandas, print tail of dataframe]\n",
    "\n",
    "import pandas as pd                                         # import pandas library\n",
    "\n",
    "df = pd.read_csv('../data_files/Int_Monthly_Visitor.csv')   # read the csv file\n",
    "df.tail()                                                   # print the tail (last x number of rows, defaults to 5) of the dataframe"
   ]
  },
  {
   "cell_type": "code",
   "execution_count": null,
   "metadata": {},
   "outputs": [],
   "source": [
    "#PGE Lab 9, Step 3 [Basic File Import with Pandas, print head of dataframe with specified number of rows]\n",
    "\n",
    "import pandas as pd                                         # import pandas library\n",
    "\n",
    "df = pd.read_csv('../data_files/Int_Monthly_Visitor.csv')   # read the csv file\n",
    "df.head(13)                                                 # prints the top 13 rows of the dataframe"
   ]
  },
  {
   "cell_type": "code",
   "execution_count": null,
   "metadata": {},
   "outputs": [],
   "source": [
    "#PGE Lab 9, Step 4 [Basic File Import with Pandas, print head of dataframe with specified number of rows]\n",
    "\n",
    "import pandas as pd                                                         # import pandas library\n",
    "\n",
    "df = pd.read_csv('../data_files/Int_Monthly_Visitor.csv')                   # read the csv file\n",
    "print(df)                                                                   # print the entire data frame\n",
    "\n",
    "df_filter = df.loc[:,[' Japan ', ' Hong Kong ']]                            # filter the data frame to only include columns 'Hong Kong' and 'China'\n",
    "print(df_filter)                                                            # print the filtered data frame\n",
    "df_filter.to_csv('../data_files/sample_output_good.csv', index = False)     # write the filtered data frame to a new csv file\n",
    "df_filter.to_csv('../data_files/sample_output_bad.csv')                     # write the filtered data frame to a new csv file"
   ]
  },
  {
   "cell_type": "markdown",
   "metadata": {},
   "source": [
    "## End of Lab 9"
   ]
  }
 ],
 "metadata": {
  "kernelspec": {
   "display_name": "Python 3",
   "language": "python",
   "name": "python3"
  },
  "language_info": {
   "codemirror_mode": {
    "name": "ipython",
    "version": 3
   },
   "file_extension": ".py",
   "mimetype": "text/x-python",
   "name": "python",
   "nbconvert_exporter": "python",
   "pygments_lexer": "ipython3",
   "version": "3.13.2"
  }
 },
 "nbformat": 4,
 "nbformat_minor": 2
}
