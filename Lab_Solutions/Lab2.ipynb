{
 "cells": [
  {
   "cell_type": "markdown",
   "metadata": {
    "cell_id": "ce8ffe5dad3b43ee8a83b805db1c69be",
    "deepnote_app_block_visible": false,
    "deepnote_cell_type": "markdown"
   },
   "source": [
    "# PGE Lab 2"
   ]
  },
  {
   "cell_type": "code",
   "execution_count": 5,
   "metadata": {
    "cell_id": "65617af4746643f4bf68cbb8b2f0949e",
    "deepnote_cell_type": "code"
   },
   "outputs": [
    {
     "name": "stdout",
     "output_type": "stream",
     "text": [
      "Singapore\n",
      "Malaysia\n"
     ]
    }
   ],
   "source": [
    "# PGE Lab 2, Step 8, string.py [Basic Strings]\n",
    "\n",
    "\n",
    "country1 = \"Singapore\" # You can assign a variable a String value by enclosing it in double quotes (\")\n",
    "country2 = 'Malaysia' # You can also assign a variable a String value by enclosing it in single quotes (')\n",
    "\n",
    "print(country1)\n",
    "print(country2)\n",
    "\n",
    "# A string is a variable which consists of a series of characters, i.e. \"text\". \n",
    "# You can use either single or double quote to enclose a string in Python.\n",
    "# One advantage of using double quotes is that you can use single quote within your string,\n",
    "# e.g. \"This is a string I won't forget!\".\n",
    "# If you had used single quotes, you would need to use a backslash (\\) to allow the use of single quotes within the\n",
    "# string: e.g. 'This is a string I won\\'t forget!' This backslash is called an escape character."
   ]
  },
  {
   "cell_type": "code",
   "execution_count": 6,
   "metadata": {
    "cell_id": "1e9de6fa6f934fec84bc585b68937de9",
    "deepnote_cell_type": "code",
    "execution_context_id": "5fecc68c-3e80-49f9-943a-3b7080cfa795",
    "execution_millis": 1,
    "execution_start": 1738657249289,
    "source_hash": "1177adac"
   },
   "outputs": [
    {
     "name": "stdout",
     "output_type": "stream",
     "text": [
      "HELLO WORLD!\n",
      "i am awesome!\n",
      "Hello world!\n"
     ]
    }
   ],
   "source": [
    "# PGE Lab 2, Step 10, [String Functions - Case Manipulation]\n",
    "\n",
    "a = \"hello world!\"\n",
    "b = \"I AM AWESOME!\"\n",
    "print(a.upper())      # Turns all characters to uppercase / capital letters\n",
    "print(b.lower())      # Turns all characters to lowercase / small letters\n",
    "print(a.capitalize()) # Capitalizes the first letter of the entire string (but not every individual word)"
   ]
  },
  {
   "cell_type": "code",
   "execution_count": 7,
   "metadata": {
    "cell_id": "342cd8ba72d740ec990f76896dc08bb2",
    "deepnote_cell_type": "code",
    "execution_context_id": "5fecc68c-3e80-49f9-943a-3b7080cfa795",
    "execution_millis": 1,
    "execution_start": 1738658804732,
    "source_hash": "fdb84d58"
   },
   "outputs": [
    {
     "name": "stdout",
     "output_type": "stream",
     "text": [
      "HELLO WORLD!\n",
      "i am awesome!\n",
      "Hello world!\n",
      "I will improve my Grade Point Average this year!\n"
     ]
    }
   ],
   "source": [
    "# PGE Lab 2, Step 11, [String Functions - Text Manipulation - Replace]\n",
    "\n",
    "a = \"hello world!\"\n",
    "b = \"I AM AWESOME!\"\n",
    "print(a.upper())      \n",
    "print(b.lower())      \n",
    "print(a.capitalize()) \n",
    "\n",
    "c = \"I will improve my GPA this year!\"\n",
    "print(c.replace(\"GPA\", \"Grade Point Average\")) \n",
    "# The replace function replaces all instance of the 1st perimeter (\"GPA\") with \n",
    "# the 2nd perimeter (\"Grade Point Average\")) in the string variable it is run from (in this case, c)"
   ]
  },
  {
   "cell_type": "code",
   "execution_count": 8,
   "metadata": {
    "cell_id": "0388d5675f9243dc98bd5e3951cbfef0",
    "deepnote_cell_type": "code",
    "execution_context_id": "700d534c-4d16-402e-baef-d0adb2a49428",
    "execution_millis": 3,
    "execution_start": 1738659009982,
    "source_hash": "416d8846"
   },
   "outputs": [
    {
     "ename": "AttributeError",
     "evalue": "'builtin_function_or_method' object has no attribute 'capitalize'",
     "output_type": "error",
     "traceback": [
      "\u001b[0;31m---------------------------------------------------------------------------\u001b[0m",
      "\u001b[0;31mAttributeError\u001b[0m                            Traceback (most recent call last)",
      "Cell \u001b[0;32mIn[8], line 8\u001b[0m\n\u001b[1;32m      5\u001b[0m w \u001b[38;5;241m=\u001b[39m \u001b[38;5;124m\"\u001b[39m\u001b[38;5;124mwork\u001b[39m\u001b[38;5;124m\"\u001b[39m\n\u001b[1;32m      6\u001b[0m h \u001b[38;5;241m=\u001b[39m \u001b[38;5;124m\"\u001b[39m\u001b[38;5;124mhard\u001b[39m\u001b[38;5;124m\"\u001b[39m\n\u001b[0;32m----> 8\u001b[0m \u001b[38;5;28mprint\u001b[39m(\u001b[38;5;124mf\u001b[39m\u001b[38;5;124m\"\u001b[39m\u001b[38;5;124mIt\u001b[39m\u001b[38;5;124m'\u001b[39m\u001b[38;5;124ms \u001b[39m\u001b[38;5;132;01m{\u001b[39;00mnv\u001b[38;5;241m.\u001b[39mupper()\u001b[38;5;132;01m}\u001b[39;00m\u001b[38;5;124m \u001b[39m\u001b[38;5;132;01m{\u001b[39;00mlate\u001b[38;5;241m.\u001b[39mlower()\u001b[38;5;132;01m}\u001b[39;00m\u001b[38;5;124m to \u001b[39m\u001b[38;5;132;01m{\u001b[39;00m\u001b[43mw\u001b[49m\u001b[38;5;241;43m.\u001b[39;49m\u001b[43mupper\u001b[49m\u001b[38;5;241;43m.\u001b[39;49m\u001b[43mcapitalize\u001b[49m()\u001b[38;5;132;01m}\u001b[39;00m\u001b[38;5;124m \u001b[39m\u001b[38;5;132;01m{\u001b[39;00mh\u001b[38;5;241m.\u001b[39mcapitalize()\u001b[38;5;132;01m}\u001b[39;00m\u001b[38;5;124m now!\u001b[39m\u001b[38;5;124m\"\u001b[39m) \n",
      "\u001b[0;31mAttributeError\u001b[0m: 'builtin_function_or_method' object has no attribute 'capitalize'"
     ]
    }
   ],
   "source": [
    "# PGE Lab 2, Step 13, [Activity Time]\n",
    "\n",
    "nv = \"never\"\n",
    "late = \"TOO LATE\"\n",
    "w = \"work\"\n",
    "h = \"hard\"\n",
    "\n",
    "print(f\"It's {nv.upper()} {late.lower()} to {w.upper.capitalize()} {h.capitalize()} now!\") "
   ]
  },
  {
   "cell_type": "code",
   "execution_count": null,
   "metadata": {
    "cell_id": "d0aa270a473d48869f7be387f66ead19",
    "deepnote_cell_type": "code"
   },
   "outputs": [],
   "source": [
    "# PGE Lab 2, Step 15, [String Functions - Text Manipulation - Split without specifying separator character]\n",
    "\n",
    "a = \"Success is the sum of Attitude and Character!\"\n",
    "print(a.split()) # Splits the string at every space into a list of strings items"
   ]
  },
  {
   "cell_type": "code",
   "execution_count": null,
   "metadata": {
    "cell_id": "0ec161386cf04591b69889bfd6fd1c49",
    "deepnote_cell_type": "code"
   },
   "outputs": [],
   "source": [
    "# PGE Lab 2, Step 16, [String Functions - Text Manipulation - Split with specifying separator character]\n",
    "\n",
    "b = \"Success = Attitude + Character\"\n",
    "print(b.split(\"=\")) # Splits the string where the separator character is found into a list of strings items"
   ]
  },
  {
   "cell_type": "code",
   "execution_count": null,
   "metadata": {
    "cell_id": "a0bb96a653b24f2b88921975269e345b",
    "deepnote_cell_type": "code",
    "execution_context_id": "700d534c-4d16-402e-baef-d0adb2a49428",
    "execution_millis": 1,
    "execution_start": 1738659548645,
    "source_hash": "45ae8049"
   },
   "outputs": [],
   "source": [
    "# PGE Lab 2, Step 17, [String Functions - Text Manipulation - Join with specified joining string]\n",
    "\n",
    "b = \"Success = Attitude + Character\"\n",
    "c = b.split(\"=\")\n",
    "print(\"equals\".join(c)) # Joins the words in a list (in this case, c) with the specified joining string (in this case, \"equals\")"
   ]
  },
  {
   "cell_type": "code",
   "execution_count": null,
   "metadata": {
    "cell_id": "d68d6bb488e84334987c075fe93790a5",
    "deepnote_cell_type": "code"
   },
   "outputs": [],
   "source": [
    "# PGE Lab 2, Step 18-21, inputString.py [Getting User Input]\n",
    "\n",
    "name = input(\"What is your name? \") # Gets user input for name and assign the entered value into the variable 'name'\n",
    "age = input(\"How old are you? \") # Gets user input for age and assign the entered value into the variable 'age'\n",
    "print(f\"My name is {name}.\") # Prints the sentence, incorporating the value of the variable 'name'\n",
    "print(f\"I am {age} years old.\") # Prints the sentence, incorporating the value of the variable 'age'"
   ]
  },
  {
   "cell_type": "code",
   "execution_count": null,
   "metadata": {
    "cell_id": "b6d0f065db5143d98a1d02fcffd0a568",
    "deepnote_cell_type": "code"
   },
   "outputs": [],
   "source": [
    "# PGE Lab 2, Step 24-29, variable.py [Getting Variable Type]\n",
    "\n",
    "message = 888         # assigns the value of '888' to the variable 'message'\n",
    "print(message)        # prints the value of the variable 'message' (888)\n",
    "print(type(message))  # prints the data type of the viable 'message' (int)\n",
    "\n",
    "message = 888.888     # re-assigns the value of '888.888' to the variable 'message'\n",
    "print(message)        # prints the value of the variable 'message' (888.888)\n",
    "print(type(message))  # prints the data type of the viable 'message' (float)\n",
    "\n",
    "message = \"Huat Ah!!!\" # re-assigns the value of 'Huat Ah!!!' to the variable 'message'\n",
    "print(message)         # prints the value of the variable 'message' (Huat Ah!!!)\n",
    "print(type(message))   # prints the data type of the viable 'message' (str - which stands for String)\n",
    "\n",
    "message = True        # re-assigns the value of 'True' to the variable 'message'\n",
    "print(message)        # prints the value of the variable 'message' (True)\n",
    "print(type(message))  # prints the data type of the viable 'message' (bool - which stands for Boolean)"
   ]
  },
  {
   "cell_type": "code",
   "execution_count": null,
   "metadata": {
    "cell_id": "9e5d3e3a4a104516b1d5da4be762cf52",
    "deepnote_cell_type": "code"
   },
   "outputs": [],
   "source": [
    "# PGE Lab 2, Step 34, ArithmeticOperators.py [Arithmetic Operators]\n",
    "\n",
    "a = 2     # assign the value of '2' to the variable 'a'\n",
    "b = 3     # assign the value of '3' to the variable 'b'\n",
    "c = a + b # perform and 'add' calculation of the values of a and b using the values assigned to them previously, and assign the resultant value to the variable 'c'\n",
    "print(a)  # prints the value of the variable 'a'\n",
    "print(b)  # prints the value of the variable 'b'\n",
    "print(c)  # prints the value of the variable 'c'"
   ]
  },
  {
   "cell_type": "code",
   "execution_count": null,
   "metadata": {},
   "outputs": [],
   "source": [
    "# PGE Lab 2, Step 35, ArithmeticOperators.py [Arithmetic Operators - Multiple Assignment - Successful Run]\n",
    "\n",
    "a, b = 2, 3     # simultaneously assign the value of '2' to the variable 'a', and the value 3 to the variable 'b'\n",
    "c = a + b       # perform and 'add' calculation of the values of a and b using the values assigned to them previously, and assign the resultant value to the variable 'c'\n",
    "print(a)        # prints the value of the variable 'a'\n",
    "print(b)        # prints the value of the variable 'b'\n",
    "print(c)        # prints the value of the variable 'c'"
   ]
  },
  {
   "cell_type": "code",
   "execution_count": null,
   "metadata": {
    "cell_id": "01dcc7b0a7754abebe0232e8cb9c486f",
    "deepnote_cell_type": "code"
   },
   "outputs": [],
   "source": [
    "# PGE Lab 2, Step 37, ArithmeticOperators.py [Arithmetic Operators - Multiple Assignment - Unsuccessful Run]\n",
    "\n",
    "del a, b, c     # delete the variables 'a', 'b', and 'c' \n",
    "                # (this step is not included by default as part of the exercise, but it is done here to ensure that the variables \n",
    "                # 'a', 'b', and 'c' are not declared before this line, so that you may see the results \n",
    "                # of the below included code in your lab exercise correctly\n",
    "\n",
    "a, b, c = 2, 3, a + b       # simultaneously ATTEMPT to assign the value of '2' to the variable 'a', and the value of '3' to the variable 'b', AND the value of 'a + b' to the variable 'c' in a single step.\n",
    "                            # This will fail since all 3 assignments were attempted to take place at the same time.\n",
    "                            # Since 'a' and 'b' were not YET set until this line runs successfully, 'c = a + b' cannot be run since 'a' and 'b' is considered to have not yet been declared.\n",
    "print(a)                    # prints the value of the variable 'a'\n",
    "print(b)                    # prints the value of the variable 'b'\n",
    "print(c)                    # prints the value of the variable 'c'\n"
   ]
  },
  {
   "cell_type": "code",
   "execution_count": null,
   "metadata": {},
   "outputs": [],
   "source": [
    "# PGE Lab 2, Step 38, ArithmeticOperators.py [Arithmetic Operators - Multiple Assignment - Successful Run 2]\n",
    "\n",
    "a, b = 2, 3                 # simultaneously assign the value of '2' to the variable 'a', and the value of '3' to the variable 'b'\n",
    "c = a + b                   # perform and 'add' calculation of the values of a and b using the values assigned to them previously, and assign the resultant value to the variable 'c'\n",
    "                            # This will succed since variable 'a' and 'b' were already assigned values before the calculation of 'c' was attempted.\n",
    "a, b, c = b, b*c, c+c       # using the above set values of a = 2, b = 3 and c = 5, re-assign a with the current value of b (3), b with the current value of b*c (3x5) and c with the value of c+c (5+5)\n",
    "                            # This will succeed since all the variables have been assigned values before the calculation of the new values was attempted.\n",
    "print(a)                    # prints the value of the variable 'a'\n",
    "print(b)                    # prints the value of the variable 'b'\n",
    "print(c)                    # prints the value of the variable 'c'"
   ]
  },
  {
   "cell_type": "code",
   "execution_count": null,
   "metadata": {},
   "outputs": [],
   "source": [
    "# PGE Lab 2, Step 40, ArithmeticOperators.py [Formatting String Literals]\n",
    "\n",
    "a, b = 2, 3                 # simultaneously assign the value of '2' to the variable 'a', and the value of '3' to the variable 'b'\n",
    "c = a + b                   # perform and 'add' calculation of the values of a and b using the values assigned to them previously, and assign the resultant value to the variable 'c'\n",
    "a, b, c = b, b*c, c+c       # using the above set values of a = 2, b = 3 and c = 5, re-assign a with the current value of b (3), b with the current value of b*c (3x5) and c with the value of c+c (5+5)\n",
    "print(f\"The value of a is : {a}.\") # prints the value of the variable 'a' in a formatted string\n",
    "print(f\"The value of b is : {b}.\") # prints the value of the variable 'b' in a formatted string\n",
    "print(f\"The value of c is : {c}.\") # prints the value of the variable 'c' in a formatted string\n",
    "\n",
    "# The lab exercise appears to have a typo in its expected output, as it shows \"The value of a is :\" for all 3 variables. This has been corrected in this model answer."
   ]
  },
  {
   "cell_type": "code",
   "execution_count": null,
   "metadata": {},
   "outputs": [],
   "source": [
    "# PGE Lab 2, Step 42, ArithmeticOperators.py [Formatting String Literals]\n",
    "\n",
    "a = 1.222       # assign the value of '1.222' to the variable 'a'\n",
    "b = 2.333       # assign the value of '2.333' to the variable 'b'\n",
    "print(f\"{a:0.1f} + {b:0.1f} = {a+b:0.1f}\") # prints the value of the variable 'a' and 'b' in a formatted string, and the sum of 'a' and 'b' in a formatted string"
   ]
  },
  {
   "cell_type": "code",
   "execution_count": null,
   "metadata": {},
   "outputs": [],
   "source": [
    "# PGE Lab 2, Step 44, ArithmeticOperators.py [Activity Time]\n",
    "\n",
    "a = 3.333       # assign the value of '3.333' to the variable 'a'\n",
    "b = 5.555       # assign the value of '5.555' to the variable 'b'\n",
    "c = 8.888       # assign the value of '8.888' to the variable 'c'\n",
    "d = a + b + c   # perform and 'add' calculation of the values of a, b and c using the values assigned to them previously, and assign the resultant value to the variable 'd'\n",
    "\n",
    "print(f\"{a:0.2f} + {b:0.2f} + {c:0.1f} = {d:0.0f}\") # prints the value of the variable 'a', 'b' and 'c' in a formatted string, and 'd', which is the sum of 'a', 'b' and 'c' in a formatted string. 'a' and 'b' are rounded to 2 decimal places, 'c' is rounded to 1 decimal place, and 'd' is rounded to 0 decimal places."
   ]
  },
  {
   "cell_type": "code",
   "execution_count": null,
   "metadata": {},
   "outputs": [],
   "source": [
    "# PGE Lab 2, Step 46, ArithmeticOperators.py [Modulus Operator]\n",
    "\n",
    "# The modulus operator (%) returns the remainder of the division of the first number by the second number on the right hand side (RHS) of the expression.\n",
    "\n",
    "a = 8 % 3       # assign the remainder of the division of 8 by 3 to the variable 'a'\n",
    "print(a)        # prints the value of the variable 'a', which in this case will be 2 \n",
    "                \n",
    "                # MATH TRIVIA:\n",
    "                # In modulus calculation, each part of the expression has a name.\n",
    "                # '8' is called the Dividend (the number to be divided), \n",
    "                # '3' is called the Divisor (the number that 8 is divided by), and \n",
    "                # 'a', which evaluates to '2' is called the Remainder (the resulting integer when 8 is divided \n",
    "                # by three and left as an integer without any decimal places/fractional parts)\n",
    "\n"
   ]
  },
  {
   "cell_type": "code",
   "execution_count": null,
   "metadata": {},
   "outputs": [],
   "source": [
    "# PGE Lab 2, Step 47, ArithmeticOperators.py [Exponent]\n",
    "\n",
    "# The exponent operator (**) raises the first number to the power of the second number on the right hand side (RHS) of the expression.\n",
    "\n",
    "b = 2 ** 5      # assign the value of 2 to the power of 5 to the variable 'b'\n",
    "print(b)        # prints the value of the variable 'b', which in this case will be 32 \n",
    "                # (since 2 to the power of 5 is 32, i.e. 2 x 2 x 2 x 2 x 2)\n",
    "\n",
    "                # MATH TRIVIA:\n",
    "                # In exponent calculation, each part of the expression has a name.\n",
    "                # 'b' is called the Power (the result of raising a base to an exponent)\n",
    "                # '2' is called the Base (the number that is raised to a power) and\n",
    "                # '5' is called the Exponent (the number that specifies the power to which the base is raised)"
   ]
  },
  {
   "cell_type": "code",
   "execution_count": null,
   "metadata": {},
   "outputs": [],
   "source": [
    "# PGE Lab 2, Step 48, ArithmeticOperators.py [Integer Division / Floor Division]\n",
    "\n",
    "# The integer division operator (//) returns the quotient of the division of the first number by the second number on the right hand side (RHS) of the expression.\n",
    "\n",
    "c = 11 // 3     # assign the quotient of the division of 11 by 3 to the variable 'c'\n",
    "print(c)        # prints the value of the variable 'c', which in this case will be 3 \n",
    "                # (since 11 divided by 3 is 3 with a remainder of 2)\n",
    "\n",
    "                # MATH TRIVIA:\n",
    "                # In integer division calculation, each part of the expression has a name.\n",
    "                # 'c' is called the Quotient (the result of the division of one number by another)\n",
    "                # '11' is called the Dividend (the number to be divided), and\n",
    "                # '3' is called the Divisor (the number that 11 is divided by)"
   ]
  },
  {
   "cell_type": "code",
   "execution_count": null,
   "metadata": {},
   "outputs": [],
   "source": [
    "# PGE Lab 2, Step 52, ArithmeticOperators.py [Integer Division / Floor Division]\n",
    "\n",
    "a = 5           # assign the value of '5' to the variable a\n",
    "a += 3          # now assign the value of the currently set value of a (5) and add 3 to it (i.e. \"new\" a = \"current\" a + 3)\n",
    "print(a)        # print the value of 'a' (which will resolve to 8)\n",
    "\n",
    "b = 8           # assign the value of '8' to the variable b\n",
    "b -= 2          # now assign the value of the currently set value of b (8) and subtract 2 from it (i.e. \"new\" b = \"current\" b - 2)\n",
    "print(b)        # print the value of 'b' (which will resolve to 6)"
   ]
  },
  {
   "cell_type": "code",
   "execution_count": null,
   "metadata": {},
   "outputs": [],
   "source": [
    "# PGE Lab 2, Step 54 [Activity Time]\n",
    "\n",
    "radius = float(input(\"PLease enter the radius of the circle: \")) # Get user input for the radius of the circle and assign the entered value to the variable 'radius'\n",
    "\n",
    "circumference = 2 * 3.142 * radius                               # Using the formula for the circumference of a circle, calculate the circumference of the circle with the radius entered by the user\n",
    "\n",
    "print(f\"The Circumference of the Circle is {circumference:0.2f}\") # Print the circumference of the circle with the radius entered by the user, rounded to 2 decimal places\n"
   ]
  },
  {
   "cell_type": "code",
   "execution_count": null,
   "metadata": {},
   "outputs": [],
   "source": [
    "# PGE Lab 2, Step 55 [Activity Time]\n",
    "\n",
    "first_radius = float(input(\"Please enter the radius of the first circle: \"))        # Get user input for the radius of the first circle and assign the entered value to the variable 'first_radius'\n",
    "second_radius = float(input(\"Please enter the radius of the second circle: \"))      # Get user input for the radius of the second circle and assign the entered value to the variable 'second_radius'\n",
    "\n",
    "first_circumference = 2 * 3.142 * first_radius                                      # Using the formula for the circumference of a circle, calculate the circumference of the first circle with the radius entered by the user\n",
    "second_circumference = 2 * 3.142 * second_radius                                    # Using the formula for the circumference of a circle, calculate the circumference of the second circle with the radius entered by the user\n",
    "total_circle_circumference = first_circumference + second_circumference             # Calculate the total circumference of the two circles by adding the two circumferences together\n",
    "\n",
    "print(f\"The Circumference of the first Circle is {first_circumference:0.2f}\")       # Print the circumference of the first circle with the radius entered by the user, rounded to 2 decimal places\n",
    "print(f\"The Circumference of the second Circle is {second_circumference:0.2f}\")     # Print the circumference of the second circle with the radius entered by the user, rounded to 2 decimal places\n",
    "print(f\"The Circumference of the two Circles is {total_circle_circumference:0.2f}\") # Print the total circumference of the two circles with the radii entered by the user, rounded to 2 decimal places\n"
   ]
  },
  {
   "cell_type": "code",
   "execution_count": null,
   "metadata": {},
   "outputs": [],
   "source": [
    "# PGE Lab 2, Step 56, Variable_Exercise.py [Activity Time]\n",
    "\n",
    "name = input(\"What is your name? \")                     # Get user input for the name and assign the entered value to the variable 'name'\n",
    "age = input(\"How old are you? \")                        # Get user input for the age and assign the entered value to the variable 'age'\n",
    "school = input(\"Where do you study?\")                   # Get user input for the school and assign the entered value to the variable 'school'\n",
    "fees = input(\"How much is your monthly school fees?\")   # Get user input for the school fees and assign the entered value to the variable 'fees'\n",
    "\n",
    "print(f\"{name} is {age} years old.\")                    # Print the name and age of the user\n",
    "print(f\"He/she studies in {school}.\")                    # Print the school of the user\n",
    "print(f\"His/her monthly school fees is ${fees}.\")         # Print the monthly school fees of the user"
   ]
  },
  {
   "cell_type": "markdown",
   "metadata": {},
   "source": [
    "## End of Lab 2"
   ]
  }
 ],
 "metadata": {
  "deepnote_notebook_id": "6fe51404569a4ee8a1c90e6848896017",
  "kernelspec": {
   "display_name": "Python 3",
   "language": "python",
   "name": "python3"
  },
  "language_info": {
   "codemirror_mode": {
    "name": "ipython",
    "version": 3
   },
   "file_extension": ".py",
   "mimetype": "text/x-python",
   "name": "python",
   "nbconvert_exporter": "python",
   "pygments_lexer": "ipython3",
   "version": "3.10.12"
  }
 },
 "nbformat": 4,
 "nbformat_minor": 0
}
