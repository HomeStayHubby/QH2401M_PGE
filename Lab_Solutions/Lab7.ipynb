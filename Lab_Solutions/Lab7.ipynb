{
 "cells": [
  {
   "cell_type": "markdown",
   "metadata": {},
   "source": [
    "# Lab 7 - Classes"
   ]
  },
  {
   "cell_type": "code",
   "execution_count": null,
   "metadata": {},
   "outputs": [],
   "source": [
    "# Lab 7, Step 3, Class_Example.py [Basic Class Example - No Contents]\n",
    "\n",
    "class Student:          # Create a class 'Student'\n",
    "    pass                # You can use the keyword 'pass' in a block of code if you are still just scaffolding a skeleton structure\n",
    "                        # for your program, instead of leaving it blank, as certain code blocks, such as function definitions,\n",
    "                        # class declarations, loops and conditionals, require their content to be non-empty, otherwise an error will be triggered.\n",
    "\n",
    "stud_1 = Student()      # create a variable 'stud_1' as a 'Student' object (as opposed to using a built-in data type) by calling its constructor method\n",
    "stud_2 = Student()      # create a variable 'stud_2' as a 'Student' object (as opposed to using a built-in data type) by calling its constructor method\n",
    "print(stud_1)           # print the contents of the 'stud_1' variable\n",
    "print(stud_2)           # print the contents of the 'stud_2' variable  "
   ]
  },
  {
   "cell_type": "code",
   "execution_count": null,
   "metadata": {},
   "outputs": [],
   "source": [
    "# Lab 7, Step 7, Class_Example.py [Basic Class Example - With Local Variable]\n",
    "\n",
    "class MyMath:                       # Create a class 'MyMath'\n",
    "    number = 100                    # Declare a variable 'number' within the class, and assign it with the value '100'\n",
    "\n",
    "m1 = MyMath()                       # Create an variable 'm1' as a 'MyClass' object instance using its constructor method.\n",
    "print(f\"Number is {m1.number}\")     # Print out the value of the 'number' variable of the 'm1' object, which will resolve to '100'."
   ]
  },
  {
   "cell_type": "code",
   "execution_count": null,
   "metadata": {},
   "outputs": [],
   "source": [
    "# Lab 7, Step 7, Class_Example.py [Basic Class Example - With Methods]\n",
    "\n",
    "class Person:                                       # Create a class 'Person'\n",
    "    \n",
    "    def __init__(self, name):                       # Define the initializing construtor method. In addition to itself, the method will also take in a 'name' parameter\n",
    "        self.name = name                            # Assign the object instance's 'name' attribute with the 'name' argument that was provided when the constructor method was called\n",
    "    \n",
    "    def say_hi(self):                               # Define a method 'say_hi', that does not take in any user-supplied arguments. It will still take itself as an argument.\n",
    "        print(f\"Hello, my name is {self.name}\")     # Prints out a message that includes the 'name' argument supplied by the user when creating the object instance.\n",
    "\n",
    "p1 = Person(\"Harry\")                                # Create a variable 'p1' as a 'Person' object instance, calling its constructor method and supplying 'Harry' as an argument\n",
    "p2 = Person(\"Jane\")                                 # Create a variable 'p1' as a 'Person' object instance, calling its constructor method and supplying 'Jane' as an argument\n",
    "p1.say_hi()                                         # Calls the 'say_hi' method of p1, which will display a message containing the provided 'name' attribute of the p1 object - 'Harry'\n",
    "p2.say_hi()                                         # Calls the 'say_hi' method of p1, which will display a message containing the provided 'name' attribute of the p2 object - 'Jane'"
   ]
  },
  {
   "cell_type": "code",
   "execution_count": null,
   "metadata": {},
   "outputs": [],
   "source": [
    "# Lab 7, Step 9, Class_Example.py [Basic Class Example - Changing the name of Self]\n",
    "\n",
    "class Person():                                     # Create a class 'Person'. Note that we have included a set of parentheses. \n",
    "                                                    # In Python 3, a class definition name does not require a set of parantheses\n",
    "                                                    # unless it needs to be inherited from another class. In those cases, the definition\n",
    "                                                    # should look like: class derivedClassName(baseClassName): \n",
    "   \n",
    "    def __init__(myfunnyobject, name, age):         # Define the initializing construtor method for the class. The first parameter is ALWAYS the self parameter, \n",
    "                                                    # representing the object instance. It can, however, be named anything. In this case\n",
    "                                                    # it is called 'myfunnyobject'. This constructor also takes in a 'name' and 'age parameters.\n",
    "        myfunnyobject.name = name                   # The object's 'name' parameter is assigned the value of the 'name' argument supplied by the user.\n",
    "        myfunnyobject.age = age                     # The object's 'age' parameter is assigned the value of the 'age' argument supplied by the user.\n",
    "\n",
    "    def myfunc(abc):                                # Define a method 'say_hi', that does not take in any user-supplied arguments, but only itself. \n",
    "                                                    # Instead of 'self' however, it can also be named anything. In this case it is called 'abc'.\n",
    "        print(f\"Hello, my name is {abc.name}.\")     # Print out a message, incorporating the 'name' atttribute of the object instance\n",
    "        print(f\"I am {abc.age} years old.\")         # Print out a message, incoporating the 'age' attribute of the object instance\n",
    "\n",
    "p1 = Person(\"Harry', 36\")                            # Create an object instance 'p1' of the Person class, supply it with the arguments 'Harry' and '36' for the 'name' and 'age' parameters respectively\n",
    "p1.myfunc()                                         # Call the 'myfunc()' function of the object instance 'p1'"
   ]
  },
  {
   "cell_type": "code",
   "execution_count": null,
   "metadata": {},
   "outputs": [],
   "source": [
    "# Lab 7, Step 11, Class_Example.py [Inheritance]\n",
    "\n",
    "class CompanyMember:                                                                    # Create a base 'CompanyMember' class that derived classes that shares attributes or methods with can derive from. This will be the base of all kinds of staff in the company.\n",
    "    def __init__(self, name, designation, age):                                         # Define a initialization constructor method, that takes in (in addition to itself) three parameters: the 'name', 'designation', and 'age' of the staff member. These are attributes shared by all kinds of staff in the company.\n",
    "        self.name = name                                                                # Sets the object instance's 'name' attribute with the 'name' argument provided by the user when creating the object\n",
    "        self.designation = designation                                                  # Sets the object instance's 'designation' attribute with the 'designation' argument provided by the user\n",
    "        self.age = age                                                                  # Sets the object instance's 'age' attribute with the 'age' argument provided by the user\n",
    "\n",
    "    def tell(self):                                                                     # Define a 'tell' method that takes in no parameters\n",
    "        print(f\"Name: {self.name} \\nDesignation: {self.designation} \\nAge: {self.age}\") # The function, when called, will print out the object instance's 'name', 'designation' and 'age' attributes, each on their own lines.\n",
    "\n",
    "class FactoryStaff(CompanyMember):                                                      # Create a derived class 'FactoryStaff' that derives all attritbutes and methods from the base class 'CompanyStaff'\n",
    "    def __init__(self, name, designation, age, overtime_allow):                         # Define a initialization constructor method, that takes in (in addition to itself) four parameters: the 'name', 'designation', 'age' and 'overtime_allow' of the staff member. The first three are attributes shared by all kinds of staff in the company, and the last is an attribute unique to Factory Staff.\n",
    "        CompanyMember.__init__(self, name, designation, age)                            # Calls the base class's initialization construtor to set the values of the parameters 'name', 'designation' and 'age' as provided by the caller when creating the FactoryStaff object instance.\n",
    "        self.overtime_allow = overtime_allow                                            # Set the object instance's 'overtime_allow' attribute with the 'overtime_allow' argument provided by the user\n",
    "\n",
    "class OfficeStaff(CompanyMember):                                                       # Create a derived class 'OfficeStaff' that derives all attritbutes and methods from the base class 'CompanyStaff'\n",
    "    def __init__(self, name, designation, age, travelling_allow):                       # Define a initialization constructor method, that takes in (in addition to itself) four parameters: the 'name', 'designation', 'age' and 'travelling_allow' of the staff member. The first three are attributes shared by all kinds of staff in the company, and the last is an attribute unique to Office Staff.\n",
    "        CompanyMember.__init__(self, name, designation, age)                            # Calls the base class's initialization construtor to set the values of the parameters 'name', 'designation' and 'age' as provided by the caller when creating the OfficeStaff object instance.\n",
    "        self.travelling_allow = travelling_allow                                        # Set the object instance's 'travelling_allow' attribute with the 'travelling_allow' argument provided by the user\n",
    "\n",
    "fs = FactoryStaff(\"David\", \"Electrician\", 39, 250)                                      # Create a FactoryStaff object instance named 'fs', and provide the arguments for 'name', 'designation, 'age' and 'overtime_allow' respectively. \n",
    "fs.tell()                                                                               # Calls the FactoryStaff object instance's 'tell()' method, which will print out the object instance's 'name', 'designation' and 'age' attributes, each on their own lines. Note that while we did not define this in the derived FactoryStaff class, it is available because it has been inherited from the CompanyMember base class.\n",
    "print(f\"Overtime Allowance: ${fs.overtime_allow:.02f}\")                                 # Prints out a message showing the FactoryStaff object instance's 'overtime_allow' attribute, correct to 2 decimal points\n",
    "print()                                                                                 # Prints and empty line\n",
    "\n",
    "os = OfficeStaff(\"Susan\", \"Office Assistant\", 45, 220)                                  # Create a OfficeStaff object instance named 'os', and provide the arguments for 'name', 'designation, 'age' and 'travelling_allow' respectively\n",
    "os.tell()                                                                               # Calls the OfficeStaff object instance's 'tell()' method, which will print out the object instance's 'name', 'designation' and 'age' attributes, each on their own lines. Note that while we did not define this in the derived OfficeStaff class, it is available because it has been inherited from the CompanyMember base class.\n",
    "print(f\"Travelling Allowance: ${os.travelling_allow:.02f}\")                             # Prints out a message showing the OfficeStaff object instance's 'travelling_allow' attribute, correct to 2 decimal points\n"
   ]
  },
  {
   "cell_type": "markdown",
   "metadata": {},
   "source": [
    "## End of Lab 7"
   ]
  }
 ],
 "metadata": {
  "kernelspec": {
   "display_name": "Python 3 (ipykernel)",
   "language": "python",
   "name": "python3"
  },
  "language_info": {
   "codemirror_mode": {
    "name": "ipython",
    "version": 3
   },
   "file_extension": ".py",
   "mimetype": "text/x-python",
   "name": "python",
   "nbconvert_exporter": "python",
   "pygments_lexer": "ipython3",
   "version": "3.12.1"
  }
 },
 "nbformat": 4,
 "nbformat_minor": 2
}
