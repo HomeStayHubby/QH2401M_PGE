{
 "cells": [
  {
   "cell_type": "markdown",
   "metadata": {},
   "source": [
    "# PGE LAb 6 - Functions"
   ]
  },
  {
   "cell_type": "code",
   "execution_count": 1,
   "metadata": {},
   "outputs": [],
   "source": [
    "# PGE Lab 6, Step 3, function.py [Basic Function - Defining a function]\n",
    "\n",
    "def my_function():                              # Define a function called my_function (with no parameters)\n",
    "    print(\"Hello, welcome to function!\")        # Print the message \"Hello, welcome to function!\" if the function is called\n",
    "\n",
    "# Should anything be printed? No. Because we have defined a function, but have not called it."
   ]
  },
  {
   "cell_type": "code",
   "execution_count": null,
   "metadata": {},
   "outputs": [],
   "source": [
    "# PGE Lab 6, Step 4, function.py [Basic Function - Calling a function]\n",
    "\n",
    "def my_function():                              # Define a function called my_function (with no parameters)\n",
    "    print(\"Hello, welcome to function!\")        # Print the message \"Hello, welcome to function!\" if the function is called\n",
    "\n",
    "my_function()                                   # Call the function my_function\n",
    "\n",
    "\n",
    "# *NOW* should anything be printed? Yes. Because now we have defined a function, AND have not called it by typing out the function name with its parentheses."
   ]
  },
  {
   "cell_type": "code",
   "execution_count": null,
   "metadata": {},
   "outputs": [],
   "source": [
    "# PGE Lab 6, Step 4, function.py [Basic Function - Calling a function in the wrong order]\n",
    "\n",
    "#my_malfunction()                                   # Call the function my_function\n",
    "\n",
    "def my_malfunction():                              # Define a function called my_function (with no parameters)\n",
    "    print(\"Hello, welcome to malfunction!\")        # Print the message \"Hello, welcome to function!\" if the function is called\n",
    "\n",
    "# *NOW* should anything be printed? No. Because now we have called a function before defining it. \n",
    "# Languages that support this uses a feature called \"hoisting\", which is unfortunately not supported in Python.\n",
    "# Hoisting is a feature that moves all function declarations to the top of the code before executing it.\n",
    "# In Python, the code is executed sequentially from top to bottom, so all functions must be defined before they are called."
   ]
  },
  {
   "cell_type": "code",
   "execution_count": null,
   "metadata": {},
   "outputs": [],
   "source": [
    "# PGE Lab 6, Step 6, function.py [Functions with Parameters - Defining a function with 1 parameter]\n",
    "\n",
    "def my_function(x):     # Define a function called my_function that takes in a parameter x\n",
    "    return 8 * x        # return the value of 8 times x, whatever x is, to whoever called the function        \n",
    "\n",
    "print(my_function(2))   # Prints the value that is returned by the function. In this case, 8 * 2 = 16\n"
   ]
  },
  {
   "cell_type": "code",
   "execution_count": null,
   "metadata": {},
   "outputs": [],
   "source": [
    "# PGE Lab 6, Step 8, function.py [Functions with Parameters - Defining a function with multiple parameters]\n",
    "\n",
    "def my_function(a, b):      # Define a function called my_function that takes in 2 parameters a and b\n",
    "    result = a ** b         # Calculate the value of a to the power of b and store it in the variable result\n",
    "    return result           # return the value of a to the power of b, whatever a and b are, to whoever called the function\n",
    "\n",
    "print(my_function(8, 2))    # Prints the value that is returned by the function. In this case, 8 ** 2 = 64"
   ]
  },
  {
   "cell_type": "code",
   "execution_count": null,
   "metadata": {},
   "outputs": [],
   "source": [
    "# PGE Lab 6, Step 9, functionExercise1.py [Activity Time]\n",
    "\n",
    "def add_numbers(a, b):      # Define a function called add_numbers that takes in 2 parameters a and b\n",
    "    result = a + b          # Calculate the sum of a and b and store it in the variable result\n",
    "    print(f\"{a} + {b} = {result}\")  # Print the sum of a and b in the format \"a + b = result\"\n",
    "\n",
    "first_number = int(input(\"Enter 1st number: \"))    # Ask the user to input the first number and store it in the variable first_number\n",
    "second_number = int(input(\"Enter 2nd number: \"))   # Ask the user to input the second number and store it in the variable second_number\n",
    "\n",
    "add_numbers(first_number, second_number)  # Call the function add_numbers with the 2 numbers that the user inputted\n"
   ]
  },
  {
   "cell_type": "code",
   "execution_count": null,
   "metadata": {},
   "outputs": [],
   "source": [
    "# PGE Lab 6, Step 10, functionExercise1.py [Activity Time]\n",
    "\n",
    "def my_function(a, b):          # Define a function called my_function that takes in 2 parameters a and b\n",
    "    result1 = a + b             # Calculate the sum of a and b and store it in the variable result1\n",
    "    result2 = a - b             # Calculate the difference of a and b and store it in the variable result2\n",
    "    return result1, result2     # return the sum (result1) and difference (result2) of a and b, whatever a and b are, to whoever called the function\n",
    "\n",
    "addition, subtraction = my_function(5, 3)    # Call the function my_function with the numbers 5 and 3, which will return result1 (sum of a and b) and store that in the variables addition, and return result2 (difference of a and b) and store that in the variable subtraction\n",
    "\n",
    "print(f\"The sum of 2 numbers is {addition}.\")    # Print the sum of the 2 numbers that were stored in the variable addition\n",
    "print(f\"The difference of 2 numbers is {subtraction}.\")  # Print the difference of the 2 numbers that were stored in the variable subtraction"
   ]
  },
  {
   "cell_type": "code",
   "execution_count": null,
   "metadata": {},
   "outputs": [],
   "source": [
    "# PGE Lab 6, Step 12, functionExercise1.py [Activity Time 2]\n",
    "\n",
    "def my_discount_and_tax(price):                 # Define a function called my_discount_and_tax that takes in 1 parameter price\n",
    "    if price > 200:                             # If the price is greater than 200\n",
    "        discount = 0.20                         # Set the discount to 20%\n",
    "    elif price > 100:                           # If the price is greater than 100 (but less than or equal to 200)\n",
    "        discount = 0.10                         # Set the discount to 10%\n",
    "    else:                                       # If the price is less than or equal to 100\n",
    "        discount = 0                            # Set the discount to 0%  \n",
    "\n",
    "    discounted_price = price * discount         # Calculate the discounted price by multiplying the price by the discount rate\n",
    "    tax = (price - discounted_price) * 0.08     # Calculate the tax by multiplying the difference between the price and the discounted price by 8%\n",
    "    \n",
    "    return discounted_price, tax                # return the discounted price and tax, whatever the price is, to whoever called the function\n",
    "\n",
    "amount = float(input(\"Enter amount spent for groceries: $\"))                    # Ask the user to input the amount spent for groceries and store it in the variable amount\n",
    "discount_amount, tax_amount = my_discount_and_tax(amount)                       # Call the function my_discount_and_tax with the amount that the user inputted, which will return the discounted price and tax and store them in the variables discount_amount and tax_amount\n",
    "print(f\"The discount is ${discount_amount:.2f} and tax is ${tax_amount:.2f}.\")  # Print the discounted price and tax in the format \"The discount is $discount_amount and tax is $tax_amount\" (with up to 2 decimal points)"
   ]
  },
  {
   "cell_type": "markdown",
   "metadata": {},
   "source": [
    "## End of Lab 6"
   ]
  }
 ],
 "metadata": {
  "kernelspec": {
   "display_name": "Python 3",
   "language": "python",
   "name": "python3"
  },
  "language_info": {
   "codemirror_mode": {
    "name": "ipython",
    "version": 3
   },
   "file_extension": ".py",
   "mimetype": "text/x-python",
   "name": "python",
   "nbconvert_exporter": "python",
   "pygments_lexer": "ipython3",
   "version": "3.10.12"
  }
 },
 "nbformat": 4,
 "nbformat_minor": 2
}
