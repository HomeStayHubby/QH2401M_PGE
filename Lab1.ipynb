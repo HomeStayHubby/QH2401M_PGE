{
 "cells": [
  {
   "cell_type": "markdown",
   "metadata": {
    "cell_id": "812b802308314f1ebf055c3f0520aec4",
    "deepnote_cell_type": "text-cell-h1",
    "formattedRanges": []
   },
   "source": [
    "# PGE Lab 1"
   ]
  },
  {
   "cell_type": "code",
   "execution_count": 1,
   "metadata": {
    "cell_id": "0620286c89924c61b7f421a60a9fbbd2",
    "deepnote_cell_type": "code",
    "execution_context_id": "2c5ae335-b19c-4b2d-8f81-ccc03758be0f",
    "execution_millis": 4,
    "execution_start": 1737514106716,
    "source_hash": "4125ad96"
   },
   "outputs": [],
   "source": [
    "# PGE Lab 1, step 6-7 (page 3) [Basic statement using built-in functions]\n",
    "\n",
    "print(\"Hello World!\") # Using the print function to display the string literal \"Hello World\" to the screen."
   ]
  },
  {
   "cell_type": "code",
   "execution_count": null,
   "metadata": {
    "cell_id": "7cd1d05ccead40bfbcacb61048017594",
    "deepnote_cell_type": "code"
   },
   "outputs": [],
   "source": [
    "# PGE Lab 1, step 9-11 (page 4) [Basic statement using built-in functions]\n",
    "\n",
    "print(\"Hello World!\")                   # Using the print function to display the string literal \"Hello World\" to the screen.\n",
    "print(\"Welcome to Python Programming!\") # Each statement does one thing. In this case, each print statement would print one line of text to the screen."
   ]
  },
  {
   "cell_type": "code",
   "execution_count": null,
   "metadata": {
    "cell_id": "fb09b1b1ed984d83b5c5d3ce915b01dc",
    "deepnote_cell_type": "code"
   },
   "outputs": [],
   "source": [
    "# PGE Lab 1, step 1 (page 9) [Python Comments - Single Line Comments]\n",
    "\n",
    "print(\"Hello World!\")           \n",
    "# This is a comment line. \n",
    "\n",
    "# Comments are ignored by the Python interpreter and will not do anything in your program.\n",
    "# Comments are denoted by a # character in front of a line of text. Comments cannot span more than one line.\n",
    "# To use multiline comments, place a # sign before each line of text."
   ]
  },
  {
   "cell_type": "code",
   "execution_count": null,
   "metadata": {
    "cell_id": "7482aabd70db4d7caa7712cba1b864cf",
    "deepnote_cell_type": "code"
   },
   "outputs": [],
   "source": [
    "# PGE Lab 1, step 4 (page 9) [Python Comments - Multi-line Comments, sort of]\n",
    "\n",
    "print(\"Hello World!\") \n",
    "# This is a comment line. \n",
    "\"\"\"\n",
    "This is a comment \n",
    "written in \n",
    "more than one line.\n",
    "\"\"\"\n",
    "# Unlike some other programming languages, Python doesn't have built-in multi-line comments by default.\n",
    "# The \"\"\" or ''' triple quotes method was intended to denote a block of multiple text (e.g. that can be printed \n",
    "# to screen with a single print statement) when assigned to a variable. But should the text block be created\n",
    "# without assigning it to any variable, it can essentially function as a multi-line comment. Note however, that \n",
    "# real comments denoted by the # sign, multi-line text blocks, even when used as comments, can show up in certain\n",
    "# use-cases, such as using automatic document generators which reads and capture code blocks."
   ]
  },
  {
   "cell_type": "code",
   "execution_count": null,
   "metadata": {
    "cell_id": "e131bf87f05946cfae66f4ea77085dbb",
    "deepnote_cell_type": "code"
   },
   "outputs": [],
   "source": [
    "# PGE Lab 1, step 5 (page 10) [Indentation - Correct Example]\n",
    "\n",
    "print(\"Hello World!\") \n",
    "# This is a comment line. \n",
    "\"\"\"\n",
    "This is a comment \n",
    "written in \n",
    "more than one line.\n",
    "\"\"\"\n",
    "print(\"My name is __________\")\n",
    "print(\"I am new to Python Programming\")\n",
    "print(\"Python is cool!\")\n",
    "\n",
    "# This block of code will run with no errors."
   ]
  },
  {
   "cell_type": "code",
   "execution_count": null,
   "metadata": {
    "cell_id": "26c1080f3a4a4f439e1a0c99fc1d022f",
    "deepnote_cell_type": "code"
   },
   "outputs": [],
   "source": [
    "# PGE Lab 1, step 7 (page 10) [Indentation - Adverse Example]\n",
    "\n",
    "print(\"Hello World!\") \n",
    "# This is a comment line. \n",
    "\"\"\"\n",
    "This is a comment \n",
    "written in \n",
    "more than one line.\n",
    "\"\"\"\n",
    "print(\"My name is __________\")\n",
    "    print(\"I am new to Python Programming\")     # This line will cause an error because it is wrongly indented. (i.e. having extra spaces in front)\n",
    "print(\"Python is cool!\")\n",
    "\n",
    "# Unlike other programming languages that uses block delimiters like (), [], and {}\n",
    "# to denote a block of related code, e.g. code belonging to a function, or class, a conditional or a loop,\n",
    "# Python denotes such blocks by having insisting that all unrelated code to start from the same indentation level. \n",
    "# Code belonging to a code block (e.g. function, or class, a conditional or a loop), will start with an \n",
    "# indented level to indicate that it is \"nested\" or contained within the line before it.\n",
    "# Otherwise, no indentation shall be used."
   ]
  },
  {
   "cell_type": "code",
   "execution_count": null,
   "metadata": {
    "cell_id": "a74adc7ae8074bc08fb9e43e5fbbb421",
    "deepnote_cell_type": "code"
   },
   "outputs": [],
   "source": [
    "# PGE Lab 1, step 9 (page 11) [Case Sensitivity]\n",
    "\n",
    "print(\"Hello World!\") \n",
    "# This is a comment line. \n",
    "\"\"\"\n",
    "This is a comment \n",
    "written in \n",
    "more than one line.\n",
    "\"\"\"\n",
    "print(\"My name is __________\")\n",
    "print(\"I am new to Python Programming\")\n",
    "Print(\"Python is cool!\") # This line will cause an error because Python is case-sensitive: \n",
    "# \"Print\" is not the same as \"print\", and will result in being interpreted as an invalid function."
   ]
  },
  {
   "cell_type": "code",
   "execution_count": 1,
   "metadata": {
    "cell_id": "cbea45c4accb4a6c81bb9db7a4bbbd48",
    "deepnote_cell_type": "code",
    "execution_context_id": "6dd26770-d45b-43aa-bbf4-29525e2fd0b6",
    "execution_millis": 3,
    "execution_start": 1738655791837,
    "source_hash": "6059e72f"
   },
   "outputs": [
    {
     "name": "stdout",
     "output_type": "stream",
     "text": [
      "260\n"
     ]
    }
   ],
   "source": [
    "# PGE Lab 1, step 10 (page 12) [Expressions - Single Line]\n",
    "\n",
    "mark1 = 80\n",
    "mark2 = 50\n",
    "mark3 = 60\n",
    "mark4 = 70\n",
    "\n",
    "totalMarks = mark1 + mark2 + mark3 + mark4 \n",
    "# This expression is on a single line and the code should work with no issues\n",
    "\n",
    "print(totalMarks)"
   ]
  },
  {
   "cell_type": "code",
   "execution_count": 3,
   "metadata": {
    "cell_id": "e3dcdcdcbea3491499bfdc8660e9c37d",
    "deepnote_cell_type": "code",
    "execution_context_id": "6dd26770-d45b-43aa-bbf4-29525e2fd0b6",
    "execution_millis": 0,
    "execution_start": 1738655839305,
    "source_hash": "b092b982"
   },
   "outputs": [
    {
     "name": "stdout",
     "output_type": "stream",
     "text": [
      "260\n"
     ]
    }
   ],
   "source": [
    "# PGE Lab 1, step 10 (page 12) [Expressions - Multi-Line - Correct Example]\n",
    "\n",
    "mark1 = 80\n",
    "mark2 = 50\n",
    "mark3 = 60\n",
    "mark4 = 70\n",
    "\n",
    "totalMarks = mark1 + mark2 \\\n",
    "+ mark3 \\\n",
    "+ mark4 \n",
    "# This expression is on multiple lines and the code should work with no issues\n",
    "# by using a backslash character '\\' at the VERY end of each line, the interpreter will\n",
    "# treat the next line as a continuation of the previous line. \n",
    "\n",
    "print(totalMarks)"
   ]
  },
  {
   "cell_type": "code",
   "execution_count": 7,
   "metadata": {
    "cell_id": "d6f3244136a54172957cdf480d744f9a",
    "deepnote_cell_type": "code",
    "execution_context_id": "6dd26770-d45b-43aa-bbf4-29525e2fd0b6",
    "execution_millis": 2,
    "execution_start": 1738656082367,
    "source_hash": "d804f0ab"
   },
   "outputs": [],
   "source": [
    "# PGE Lab 1, step 10 (page 12) [Expressions - Multi-Line - Adverse Example]\n",
    "\n",
    "mark1 = 80\n",
    "mark2 = 50\n",
    "mark3 = 60\n",
    "mark4 = 70\n",
    "\n",
    "totalMarks = mark1 + mark2 \\ \n",
    "+ mark3 \\ \n",
    "+ mark4 \n",
    "# This expression is on multiple lines and the code will cause an error. Why? Because if the backslash '\\' \n",
    "# character is NOT the VERY LAST character in a line (e.g. there is a space behind the \\), the interpreter will\n",
    "# NOT treat the next line as a continuation of the previous line. \n",
    "\n",
    "print(totalMarks)"
   ]
  },
  {
   "cell_type": "markdown",
   "metadata": {
    "cell_id": "073780ec72254fbeb75ff85fb4a38a87",
    "deepnote_cell_type": "text-cell-h2",
    "formattedRanges": []
   },
   "source": [
    "## End of Lab 1"
   ]
  },
  {
   "cell_type": "markdown",
   "metadata": {
    "created_in_deepnote_cell": true,
    "deepnote_cell_type": "markdown"
   },
   "source": [
    "<a style='text-decoration:none;line-height:16px;display:flex;color:#5B5B62;padding:10px;justify-content:end;' href='https://deepnote.com?utm_source=created-in-deepnote-cell&projectId=8d2e54b3-fed0-4a40-bfcc-4b9736281029' target=\"_blank\">\n",
    "<img alt='Created in deepnote.com' style='display:inline;max-height:16px;margin:0px;margin-right:7.5px;' src='data:image/svg+xml;base64,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' > </img>\n",
    "Created in <span style='font-weight:600;margin-left:4px;'>Deepnote</span></a>"
   ]
  }
 ],
 "metadata": {
  "deepnote_app_layout": "powerful-article",
  "deepnote_app_reactivity_enabled": true,
  "deepnote_notebook_id": "a2504c8ef8f443688287e7566ca744db",
  "language_info": {
   "name": "python"
  }
 },
 "nbformat": 4,
 "nbformat_minor": 0
}
